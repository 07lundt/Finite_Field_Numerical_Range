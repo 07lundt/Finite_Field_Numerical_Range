{
 "cells": [
  {
   "cell_type": "markdown",
   "metadata": {},
   "source": [
    "# GOALS:\n",
    "- Generate numerical ranges of matrices with norm-0 eigenvectors in $\\mathbb{Z}_7[i]^2$\n",
    "- We can have:\n",
    "    - 1 or 2 norm-0 eigenvectors\n",
    "    - 1 or 2 unique eigenvalues\n",
    "    - Complex, strictly real, or strictly imaginary eigenvalues"
   ]
  },
  {
   "cell_type": "code",
   "execution_count": 1,
   "metadata": {},
   "outputs": [],
   "source": [
    "import numpy as np\n",
    "from Imports.linalg_Zpi import linalg_Zpi\n",
    "from Imports.numrange_Zpi import numrange_Zpi"
   ]
  },
  {
   "cell_type": "code",
   "execution_count": 2,
   "metadata": {},
   "outputs": [
    {
     "name": "stdout",
     "output_type": "stream",
     "text": [
      "[[[0.+1.j]\n",
      "  [2.+3.j]]\n",
      "\n",
      " [[0.+1.j]\n",
      "  [2.+4.j]]\n",
      "\n",
      " [[0.+1.j]\n",
      "  [3.+2.j]]\n",
      "\n",
      " [[0.+1.j]\n",
      "  [3.+5.j]]\n",
      "\n",
      " [[0.+1.j]\n",
      "  [4.+2.j]]\n",
      "\n",
      " [[0.+1.j]\n",
      "  [4.+5.j]]\n",
      "\n",
      " [[0.+1.j]\n",
      "  [5.+3.j]]\n",
      "\n",
      " [[0.+1.j]\n",
      "  [5.+4.j]]]\n"
     ]
    }
   ],
   "source": [
    "linalg = linalg_Zpi(n=2, p=7)\n",
    "norm0 = np.load(\"Imports/norm0/p=7_n=2.npz\")[\"norm0\"]\n",
    "print(norm0)"
   ]
  },
  {
   "cell_type": "markdown",
   "metadata": {},
   "source": [
    "## Test 1: 1 norm-0 eigenvector, 1 unique complex eigenvalue"
   ]
  },
  {
   "cell_type": "code",
   "execution_count": 3,
   "metadata": {},
   "outputs": [],
   "source": [
    "np.random.seed(seed=2)"
   ]
  },
  {
   "cell_type": "code",
   "execution_count": 4,
   "metadata": {},
   "outputs": [],
   "source": [
    "# This function should eventually be incorporated into the linalg_Zpi package\n",
    "\n",
    "def norm(v):\n",
    "    return int(linalg.prod((np.conj(v.transpose()),v)).real.item())"
   ]
  },
  {
   "cell_type": "code",
   "execution_count": 5,
   "metadata": {},
   "outputs": [
    {
     "name": "stdout",
     "output_type": "stream",
     "text": [
      "[[0.+5.j]\n",
      " [0.+6.j]]\n",
      "5\n"
     ]
    }
   ],
   "source": [
    "rand = np.random.randint(0,7,4)\n",
    "\n",
    "vec = np.array([[complex(rand[0], rand[1])],\n",
    "                [complex(rand[2], rand[3])]\n",
    "               ], dtype=np.csingle)\n",
    "\n",
    "print(vec)\n",
    "print(norm(vec))"
   ]
  },
  {
   "cell_type": "code",
   "execution_count": 6,
   "metadata": {},
   "outputs": [
    {
     "name": "stdout",
     "output_type": "stream",
     "text": [
      "[[0.+1.j]\n",
      " [3.+5.j]]\n"
     ]
    }
   ],
   "source": [
    "rand = np.random.randint(0,7)\n",
    "print(norm0[rand])\n",
    "\n",
    "vecs = (norm0[rand], vec)"
   ]
  },
  {
   "cell_type": "code",
   "execution_count": 7,
   "metadata": {},
   "outputs": [
    {
     "name": "stdout",
     "output_type": "stream",
     "text": [
      "(2+3j)\n"
     ]
    }
   ],
   "source": [
    "rand = np.random.randint(0,7,2)\n",
    "val = complex(rand[0], rand[1])\n",
    "\n",
    "vals = (val, val)\n",
    "\n",
    "print(val)"
   ]
  },
  {
   "cell_type": "code",
   "execution_count": 8,
   "metadata": {},
   "outputs": [
    {
     "name": "stdout",
     "output_type": "stream",
     "text": [
      "[[2.+3.j 0.+0.j]\n",
      " [0.+0.j 2.+3.j]]\n"
     ]
    }
   ],
   "source": [
    "M1 = linalg.from_eigen(vecs=vecs, vals=vals)\n",
    "print(M1) # Okay... that should've been a bit obvious but oh whell"
   ]
  },
  {
   "cell_type": "code",
   "execution_count": 9,
   "metadata": {},
   "outputs": [
    {
     "name": "stdout",
     "output_type": "stream",
     "text": [
      "[0.+0.j]\n"
     ]
    },
    {
     "data": {
      "image/png": "[encoded data removed]",
      "text/plain": [
       "<Figure size 432x288 with 1 Axes>"
      ]
     },
     "metadata": {
      "needs_background": "light"
     },
     "output_type": "display_data"
    }
   ],
   "source": [
    "W_M1 = numrange_Zpi(n=2, p=7, M=M1)\n",
    "print(W_M1.W0())"
   ]
  },
  {
   "cell_type": "markdown",
   "metadata": {},
   "source": [
    "## Test 2: 1 norm-0 eigenvector, 2 unique complex eigenvalues"
   ]
  },
  {
   "cell_type": "code",
   "execution_count": 10,
   "metadata": {},
   "outputs": [],
   "source": [
    "np.random.seed(seed=2)"
   ]
  },
  {
   "cell_type": "code",
   "execution_count": 11,
   "metadata": {},
   "outputs": [
    {
     "name": "stdout",
     "output_type": "stream",
     "text": [
      "((2+3j), 5j)\n"
     ]
    }
   ],
   "source": [
    "rand = np.random.randint(0,7,2)\n",
    "val = complex(rand[0], rand[1])\n",
    "\n",
    "vals = (vals[0], val)\n",
    "print(vals)"
   ]
  },
  {
   "cell_type": "code",
   "execution_count": 12,
   "metadata": {},
   "outputs": [
    {
     "name": "stdout",
     "output_type": "stream",
     "text": [
      "[[1.+2.j 5.+6.j]\n",
      " [3.+3.j 1.+6.j]]\n"
     ]
    }
   ],
   "source": [
    "M2 = linalg.from_eigen(vecs=vecs, vals=vals)\n",
    "print(M2)"
   ]
  },
  {
   "cell_type": "code",
   "execution_count": 13,
   "metadata": {},
   "outputs": [
    {
     "name": "stdout",
     "output_type": "stream",
     "text": [
      "[0.+0.j 0.+6.j 2.+5.j 3.+0.j 3.+5.j 4.+1.j 4.+6.j 5.+1.j]\n"
     ]
    },
    {
     "data": {
      "image/png": "[encoded data removed]",
      "text/plain": [
       "<Figure size 432x288 with 1 Axes>"
      ]
     },
     "metadata": {
      "needs_background": "light"
     },
     "output_type": "display_data"
    }
   ],
   "source": [
    "W_M2 = numrange_Zpi(n=2, p=7, M=M2)\n",
    "print(W_M2.W0())"
   ]
  },
  {
   "cell_type": "markdown",
   "metadata": {},
   "source": [
    "## Test 3: Do it again!"
   ]
  },
  {
   "cell_type": "code",
   "execution_count": 14,
   "metadata": {},
   "outputs": [
    {
     "name": "stdout",
     "output_type": "stream",
     "text": [
      "[[0.+6.j]\n",
      " [3.+2.j]]\n",
      "0\n"
     ]
    }
   ],
   "source": [
    "rand = np.random.randint(0,7,4)\n",
    "\n",
    "vec = np.array([[complex(rand[0], rand[1])],\n",
    "                [complex(rand[2], rand[3])]\n",
    "               ], dtype=np.csingle)\n",
    "\n",
    "print(vec)\n",
    "print(norm(vec))"
   ]
  },
  {
   "cell_type": "code",
   "execution_count": 15,
   "metadata": {},
   "outputs": [
    {
     "name": "stdout",
     "output_type": "stream",
     "text": [
      "[[0.+1.j]\n",
      " [3.+5.j]]\n"
     ]
    }
   ],
   "source": [
    "rand = np.random.randint(0,7)\n",
    "print(norm0[rand])\n",
    "\n",
    "vecs = (norm0[rand], vec)"
   ]
  },
  {
   "cell_type": "code",
   "execution_count": 16,
   "metadata": {},
   "outputs": [
    {
     "name": "stdout",
     "output_type": "stream",
     "text": [
      "(2j, (1+3j))\n"
     ]
    }
   ],
   "source": [
    "rand = np.random.randint(0,7,4)\n",
    "vals = (complex(rand[0], rand[1]), complex(rand[2], rand[3]))\n",
    "\n",
    "print(vals)"
   ]
  },
  {
   "cell_type": "code",
   "execution_count": 17,
   "metadata": {},
   "outputs": [
    {
     "name": "stdout",
     "output_type": "stream",
     "text": [
      "[[2.+1.j 6.+1.j]\n",
      " [6.+1.j 6.+4.j]]\n"
     ]
    }
   ],
   "source": [
    "M3 = linalg.from_eigen(vecs=vecs, vals=vals)\n",
    "print(M3)"
   ]
  },
  {
   "cell_type": "code",
   "execution_count": 18,
   "metadata": {},
   "outputs": [
    {
     "name": "stdout",
     "output_type": "stream",
     "text": [
      "[0.+0.j 2.+5.j 4.+3.j 6.+1.j]\n"
     ]
    },
    {
     "data": {
      "image/png": "[encoded data removed]",
      "text/plain": [
       "<Figure size 432x288 with 1 Axes>"
      ]
     },
     "metadata": {
      "needs_background": "light"
     },
     "output_type": "display_data"
    }
   ],
   "source": [
    "W_M3 = numrange_Zpi(n=2, p=7, M=M3)\n",
    "\n",
    "W0_3 = W_M3.W0()\n",
    "print(W0_3)\n",
    "\n",
    "# Is this perhaps a line of some sort?"
   ]
  },
  {
   "cell_type": "code",
   "execution_count": 19,
   "metadata": {},
   "outputs": [
    {
     "data": {
      "text/plain": [
       "array([2.+5.j, 2.-2.j, 2.-2.j], dtype=complex64)"
      ]
     },
     "execution_count": 19,
     "metadata": {},
     "output_type": "execute_result"
    }
   ],
   "source": [
    "# I'm not seeing any sort of constant difference...\n",
    "np.diff(W0_3)"
   ]
  },
  {
   "cell_type": "markdown",
   "metadata": {},
   "source": [
    "## Test 4: Again!"
   ]
  },
  {
   "cell_type": "code",
   "execution_count": 20,
   "metadata": {},
   "outputs": [],
   "source": [
    "np.random.seed(seed=2)"
   ]
  },
  {
   "cell_type": "code",
   "execution_count": 21,
   "metadata": {},
   "outputs": [
    {
     "name": "stdout",
     "output_type": "stream",
     "text": [
      "Eigenvector 1: \n",
      "[[0.+5.j]\n",
      " [0.+6.j]]\n",
      "Eigenvector 1 Norm: 5\n",
      "Eigenvector 2: \n",
      "[[0.+1.j]\n",
      " [3.+5.j]]\n",
      "Eigenvalues:((2+3j), 2j)\n",
      "Matrix: \n",
      "[[6.+2.j 2.+0.j]\n",
      " [2.+3.j 3.+3.j]]\n",
      "Numerical range:[0.+0.j 0.+1.j 2.+1.j 2.+5.j 4.+0.j 4.+4.j 6.+4.j 6.+5.j]\n",
      "Difference between consecutive elements: [0.+1.j 2.+0.j 0.+4.j 2.-5.j 0.+4.j 2.+0.j 0.+1.j]\n"
     ]
    },
    {
     "data": {
      "image/png": "[encoded data removed]",
      "text/plain": [
       "<Figure size 432x288 with 1 Axes>"
      ]
     },
     "metadata": {
      "needs_background": "light"
     },
     "output_type": "display_data"
    }
   ],
   "source": [
    "rand = np.random.randint(0,7,4)\n",
    "\n",
    "vec = np.array([[complex(rand[0], rand[1])],\n",
    "                [complex(rand[2], rand[3])]\n",
    "               ], dtype=np.csingle)\n",
    "\n",
    "print(\"Eigenvector 1: \\n\"+str(vec))\n",
    "print(\"Eigenvector 1 Norm: \"+str(norm(vec)))\n",
    "\n",
    "rand = np.random.randint(0,7)\n",
    "print(\"Eigenvector 2: \\n\"+str(norm0[rand]))\n",
    "\n",
    "vecs = (norm0[rand], vec)\n",
    "\n",
    "rand = np.random.randint(0,7,4)\n",
    "vals = (complex(rand[0], rand[1]), complex(rand[2], rand[3]))\n",
    "\n",
    "print(\"Eigenvalues:\"+str(vals))\n",
    "\n",
    "M4 = linalg.from_eigen(vecs=vecs, vals=vals)\n",
    "print(\"Matrix: \\n\"+str(M4))\n",
    "\n",
    "W_M4 = numrange_Zpi(n=2, p=7, M=M4)\n",
    "\n",
    "W0_4 = W_M4.W0()\n",
    "print(\"Numerical range:\"+str(W0_4))\n",
    "print(\"Difference between consecutive elements: \"+str(np.diff(W0_4)))"
   ]
  },
  {
   "cell_type": "markdown",
   "metadata": {},
   "source": [
    "## Test 5: 1 norm-0 eigenvector, 2 unique strictly-real eigenvalues"
   ]
  },
  {
   "cell_type": "code",
   "execution_count": 22,
   "metadata": {},
   "outputs": [],
   "source": [
    "np.random.seed(seed=2)"
   ]
  },
  {
   "cell_type": "code",
   "execution_count": 23,
   "metadata": {},
   "outputs": [
    {
     "name": "stdout",
     "output_type": "stream",
     "text": [
      "Eigenvector 1: \n",
      "[[0.+5.j]\n",
      " [0.+6.j]]\n",
      "Eigenvector 1 Norm: 5\n",
      "Eigenvector 2: \n",
      "[[0.+1.j]\n",
      " [3.+5.j]]\n",
      "Eigenvalues:(2, 3)\n",
      "Matrix: \n",
      "[[2.+4.j 2.+6.j]\n",
      " [0.+2.j 3.+3.j]]\n",
      "Numerical range:[0.+0.j 1.+1.j 1.+4.j 4.+1.j 4.+5.j 5.+2.j 6.+0.j 6.+2.j]\n",
      "Difference between consecutive elements: [1.+1.j 0.+3.j 3.-3.j 0.+4.j 1.-3.j 1.-2.j 0.+2.j]\n"
     ]
    },
    {
     "data": {
      "image/png": "[encoded data removed]",
      "text/plain": [
       "<Figure size 432x288 with 1 Axes>"
      ]
     },
     "metadata": {
      "needs_background": "light"
     },
     "output_type": "display_data"
    }
   ],
   "source": [
    "rand = np.random.randint(0,7,4)\n",
    "\n",
    "vec = np.array([[complex(rand[0], rand[1])],\n",
    "                [complex(rand[2], rand[3])]\n",
    "               ], dtype=np.csingle)\n",
    "\n",
    "print(\"Eigenvector 1: \\n\"+str(vec))\n",
    "print(\"Eigenvector 1 Norm: \"+str(norm(vec)))\n",
    "\n",
    "rand = np.random.randint(0,7)\n",
    "print(\"Eigenvector 2: \\n\"+str(norm0[rand]))\n",
    "\n",
    "vecs = (norm0[rand], vec)\n",
    "\n",
    "rand = np.random.randint(0,7,2)\n",
    "vals = (rand[0], rand[1])\n",
    "\n",
    "print(\"Eigenvalues:\"+str(vals))\n",
    "\n",
    "M5 = linalg.from_eigen(vecs=vecs, vals=vals)\n",
    "print(\"Matrix: \\n\"+str(M5))\n",
    "\n",
    "W_M5 = numrange_Zpi(n=2, p=7, M=M5)\n",
    "\n",
    "W0_5 = W_M5.W0()\n",
    "print(\"Numerical range:\"+str(W0_5))\n",
    "print(\"Difference between consecutive elements: \"+str(np.diff(W0_5)))"
   ]
  },
  {
   "cell_type": "markdown",
   "metadata": {},
   "source": [
    "## Test 6: 2 norm-0 eigenvectors, 1 unique complex eigenvalue"
   ]
  },
  {
   "cell_type": "code",
   "execution_count": 24,
   "metadata": {},
   "outputs": [],
   "source": [
    "np.random.seed(seed=2)"
   ]
  },
  {
   "cell_type": "code",
   "execution_count": 25,
   "metadata": {},
   "outputs": [
    {
     "name": "stdout",
     "output_type": "stream",
     "text": [
      "Eigenvector 1: \n",
      "[[0.+1.j]\n",
      " [2.+3.j]]\n",
      "Eigenvector 2: \n",
      "[[0.+1.j]\n",
      " [4.+5.j]]\n",
      "Eigenvalues:(6j, 6j)\n",
      "Matrix: \n",
      "[[0.+6.j 0.+0.j]\n",
      " [0.+0.j 0.+6.j]]\n",
      "Numerical range:[0.+0.j]\n",
      "Difference between consecutive elements: []\n"
     ]
    },
    {
     "data": {
      "image/png": "[encoded data removed]",
      "text/plain": [
       "<Figure size 432x288 with 1 Axes>"
      ]
     },
     "metadata": {
      "needs_background": "light"
     },
     "output_type": "display_data"
    }
   ],
   "source": [
    "rand = np.random.randint(0,7,2)\n",
    "print(\"Eigenvector 1: \\n\"+str(norm0[rand[0]]))\n",
    "print(\"Eigenvector 2: \\n\"+str(norm0[rand[1]]))\n",
    "\n",
    "vecs = (norm0[rand[0]], norm0[rand[1]])\n",
    "\n",
    "rand = np.random.randint(0,7,2)\n",
    "val = complex(rand[0], rand[1])\n",
    "vals = (val, val)\n",
    "\n",
    "print(\"Eigenvalues:\"+str(vals))\n",
    "\n",
    "M6 = linalg.from_eigen(vecs=vecs, vals=vals)\n",
    "print(\"Matrix: \\n\"+str(M6))\n",
    "\n",
    "W_M6 = numrange_Zpi(n=2, p=7, M=M6)\n",
    "\n",
    "W0_6 = W_M6.W0()\n",
    "print(\"Numerical range:\"+str(W0_6))\n",
    "print(\"Difference between consecutive elements: \"+str(np.diff(W0_6)))"
   ]
  },
  {
   "cell_type": "markdown",
   "metadata": {},
   "source": [
    "## Test 7: 2 norm-0 eigenvectors, 2 unique complex eigenvalues"
   ]
  },
  {
   "cell_type": "code",
   "execution_count": 26,
   "metadata": {},
   "outputs": [],
   "source": [
    "np.random.seed(seed=2)"
   ]
  },
  {
   "cell_type": "code",
   "execution_count": 27,
   "metadata": {},
   "outputs": [
    {
     "name": "stdout",
     "output_type": "stream",
     "text": [
      "Eigenvector 1: \n",
      "[[0.+1.j]\n",
      " [2.+3.j]]\n",
      "Eigenvector 2: \n",
      "[[0.+1.j]\n",
      " [4.+5.j]]\n",
      "Eigenvalues:(6j, (3+2j))\n",
      "Matrix: \n",
      "[[4.+5.j 0.+5.j]\n",
      " [2.+0.j 6.+3.j]]\n",
      "Numerical range:[0.+0.j 1.+6.j 2.+5.j 3.+4.j]\n",
      "Difference between consecutive elements: [1.+6.j 1.-1.j 1.-1.j]\n"
     ]
    },
    {
     "data": {
      "image/png": "[encoded data removed]",
      "text/plain": [
       "<Figure size 432x288 with 1 Axes>"
      ]
     },
     "metadata": {
      "needs_background": "light"
     },
     "output_type": "display_data"
    }
   ],
   "source": [
    "rand = np.random.randint(0,7,2)\n",
    "print(\"Eigenvector 1: \\n\"+str(norm0[rand[0]]))\n",
    "print(\"Eigenvector 2: \\n\"+str(norm0[rand[1]]))\n",
    "\n",
    "vecs = (norm0[rand[0]], norm0[rand[1]])\n",
    "\n",
    "rand = np.random.randint(0,7,4)\n",
    "vals = (complex(rand[0], rand[1]), complex(rand[2], rand[3]))\n",
    "\n",
    "print(\"Eigenvalues:\"+str(vals))\n",
    "\n",
    "M7 = linalg.from_eigen(vecs=vecs, vals=vals)\n",
    "print(\"Matrix: \\n\"+str(M7))\n",
    "\n",
    "W_M7 = numrange_Zpi(n=2, p=7, M=M7)\n",
    "\n",
    "W0_7 = W_M7.W0()\n",
    "print(\"Numerical range:\"+str(W0_7))\n",
    "print(\"Difference between consecutive elements: \"+str(np.diff(W0_7)))"
   ]
  },
  {
   "cell_type": "markdown",
   "metadata": {},
   "source": [
    "## Test 8: 2 norm-0 eigenvectors, 2 complex eigenvalues that are multiples of each other?"
   ]
  },
  {
   "cell_type": "code",
   "execution_count": 28,
   "metadata": {},
   "outputs": [
    {
     "name": "stdout",
     "output_type": "stream",
     "text": [
      "Eigenvector 1: \n",
      "[[0.+1.j]\n",
      " [3.+5.j]]\n",
      "Eigenvector 2: \n",
      "[[0.+1.j]\n",
      " [2.+3.j]]\n",
      "Scalar multiple: 3\n",
      "Eigenvalues:((2+1j), (6+3j))\n",
      "Matrix: \n",
      "[[3.+4.j 3.+4.j]\n",
      " [2.+0.j 5.+0.j]]\n",
      "Numerical range:[0.+0.j 3.+1.j 4.+6.j 5.+4.j 6.+2.j]\n",
      "Difference between consecutive elements: [3.+1.j 1.+5.j 1.-2.j 1.-2.j]\n"
     ]
    },
    {
     "data": {
      "image/png": "[encoded data removed]",
      "text/plain": [
       "<Figure size 432x288 with 1 Axes>"
      ]
     },
     "metadata": {
      "needs_background": "light"
     },
     "output_type": "display_data"
    }
   ],
   "source": [
    "rand = np.random.randint(0,7,2)\n",
    "print(\"Eigenvector 1: \\n\"+str(norm0[rand[0]]))\n",
    "print(\"Eigenvector 2: \\n\"+str(norm0[rand[1]]))\n",
    "\n",
    "vecs = (norm0[rand[0]], norm0[rand[1]])\n",
    "\n",
    "rand = np.random.randint(0,7,3)\n",
    "val = complex(rand[0], rand[1])\n",
    "vals = (val, linalg.sim_s(rand[2]*val))\n",
    "\n",
    "print(\"Scalar multiple: \"+str(rand[2]))\n",
    "print(\"Eigenvalues:\"+str(vals))\n",
    "\n",
    "M8 = linalg.from_eigen(vecs=vecs, vals=vals)\n",
    "print(\"Matrix: \\n\"+str(M8))\n",
    "\n",
    "W_M8 = numrange_Zpi(n=2, p=7, M=M8)\n",
    "\n",
    "W0_8 = W_M8.W0()\n",
    "print(\"Numerical range:\"+str(W0_8))\n",
    "print(\"Difference between consecutive elements: \"+str(np.diff(W0_8)))"
   ]
  },
  {
   "cell_type": "markdown",
   "metadata": {},
   "source": [
    "# Interesting Cases\n",
    "\n",
    "## Horizontal line\n",
    "Eigenvector 1: \n",
    "[[0.+1.j]\n",
    " [3.+5.j]]\n",
    " \n",
    "Eigenvector 2: \n",
    "[[0.+1.j]\n",
    " [4.+5.j]]\n",
    " \n",
    "Scalar multiple: 6\n",
    "\n",
    "Eigenvalues:(4j, 3j)\n",
    "\n",
    "Matrix: \n",
    "[[2.+0.j 1.+0.j]\n",
    " [1.+0.j 5.+0.j]]\n",
    " \n",
    "Numerical range:[0.+0.j 1.+0.j 3.+0.j 5.+0.j]\n",
    "\n",
    "Difference between consecutive elements: [1.+0.j 2.+0.j 2.+0.j]\n",
    "\n",
    "## Diagonal line\n",
    "Eigenvector 1: \n",
    "[[0.+1.j]\n",
    " [3.+2.j]]\n",
    " \n",
    "Eigenvector 2: \n",
    "[[0.+1.j]\n",
    " [4.+2.j]]\n",
    " \n",
    "Eigenvalues:((4+4j), (5+3j))\n",
    "\n",
    "Matrix: \n",
    "[[6.+5.j 1.+1.j]\n",
    " [1.+1.j 3.+2.j]]\n",
    " \n",
    "Numerical range:[0.+0.j 2.+2.j 4.+4.j 6.+6.j]\n",
    "\n",
    "Difference between consecutive elements: [2.+2.j 2.+2.j 2.+2.j]\n",
    "\n",
    "## Vertical line with holes in it\n",
    "Eigenvector 1: \n",
    "[[0.+1.j]\n",
    " [2.+4.j]]\n",
    " \n",
    "Eigenvector 2: \n",
    "[[0.+1.j]\n",
    " [5.+3.j]]\n",
    " \n",
    "Eigenvalues:(2j, (5+2j))\n",
    "\n",
    "Matrix: \n",
    "[[6.+2.j 3.+5.j]\n",
    " [4.+5.j 6.+2.j]]\n",
    " \n",
    "Numerical range:[0.+0.j 0.+2.j 0.+3.j 0.+4.j 0.+5.j]\n",
    "\n",
    "Difference between consecutive elements: [0.+2.j 0.+1.j 0.+1.j 0.+1.j]\n",
    "\n",
    "## Horizontal line with LOTS of holes in it\n",
    "Eigenvector 1: \n",
    "[[0.+1.j]\n",
    " [2.+4.j]]\n",
    " \n",
    "Eigenvector 2: \n",
    "[[0.+1.j]\n",
    " [4.+5.j]]\n",
    " \n",
    "Scalar multiple: 6\n",
    "\n",
    "Eigenvalues:(1j, 6j)\n",
    "\n",
    "Matrix: \n",
    "[[6.+0.j 5.+1.j]\n",
    " [5.+6.j 1.+0.j]]\n",
    " \n",
    "Numerical range:[0.+0.j 3.+0.j 4.+0.j 5.+0.j 6.+0.j]\n",
    "\n",
    "Difference between consecutive elements: [3.+0.j 1.+0.j 1.+0.j 1.+0.j]\n",
    "\n",
    "## Strange line-but-not-line?\n",
    "Eigenvector 1: \n",
    "[[0.+1.j]\n",
    " [2.+4.j]]\n",
    " \n",
    "Eigenvector 2: \n",
    "[[0.+1.j]\n",
    " [5.+3.j]]\n",
    " \n",
    "Scalar multiple: 6\n",
    "\n",
    "Eigenvalues:((4+2j), (3+5j))\n",
    "\n",
    "Matrix: \n",
    "[[0.+0.j 2.+5.j]\n",
    " [6.+0.j 0.+0.j]]\n",
    " \n",
    "Numerical range:[0.+0.j 1.+5.j 3.+1.j 4.+6.j 6.+2.j]\n",
    "\n",
    "Difference between consecutive elements: [1.+5.j 2.-4.j 1.+5.j 2.-4.j]\n",
    "\n",
    "## No clue but I'm adding it in for the giggles\n",
    "Eigenvector 1: \n",
    "[[0.+1.j]\n",
    " [2.+4.j]]\n",
    " \n",
    "Eigenvector 2: \n",
    "[[0.+1.j]\n",
    " [3.+2.j]]\n",
    " \n",
    "Scalar multiple: 6\n",
    "\n",
    "Eigenvalues:((4+2j), (3+5j))\n",
    "\n",
    "Matrix: \n",
    "[[2.+3.j 4.+0.j]\n",
    " [6.+1.j 5.+4.j]]\n",
    " \n",
    "Numerical range:[0.+0.j 1.+5.j 2.+3.j 4.+6.j 6.+2.j]\n",
    "\n",
    "Difference between consecutive elements: [1.+5.j 1.-2.j 2.+3.j 2.-4.j]\n",
    "\n",
    "## Another weird-looking one\n",
    "[[1.+2.j 5.+6.j]\n",
    " [3.+3.j 1.+6.j]]\n",
    " \n",
    "((2+3j), 5j)"
   ]
  },
  {
   "cell_type": "markdown",
   "metadata": {},
   "source": [
    "# Thoughts and ideas and stuff:\n",
    "- Build a graphical classifier that can help us sort thing?\n",
    "- Generate a ton of graphs on the server and make a huge table with columns for index, val1, val2, vec1, vec2; have the images sorted by index, then manually go through and pick out the ones that are interesting and reference the details in the table\n",
    "- I also need to brute-force generate some more norm-0 vectors for Kristin\n",
    "- I will need to figure out how to retrieve things from the server onto my computer..."
   ]
  },
  {
   "cell_type": "code",
   "execution_count": null,
   "metadata": {},
   "outputs": [],
   "source": []
  }
 ],
 "metadata": {
  "kernelspec": {
   "display_name": "Python 3",
   "language": "python",
   "name": "python3"
  },
  "language_info": {
   "codemirror_mode": {
    "name": "ipython",
    "version": 3
   },
   "file_extension": ".py",
   "mimetype": "text/x-python",
   "name": "python",
   "nbconvert_exporter": "python",
   "pygments_lexer": "ipython3",
   "version": "3.7.6"
  }
 },
 "nbformat": 4,
 "nbformat_minor": 4
}
