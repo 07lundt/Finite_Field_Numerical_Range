{
 "cells": [
  {
   "cell_type": "markdown",
   "metadata": {},
   "source": [
    "# Conjecture: Real and imaginary parts of eigenvalues\n",
    "Let $A$ and $B$ be $2 \\times 2$ matrices in $\\mathbb{Z}_p[i]$ with norm-zero eigenvectors $\\vec{u}$ and $\\vec{v}$ with corresponding eigenvalues $\\lambda_A$, $\\mu_A$, $\\lambda_B$, $\\mu_B$ such that $\\text{Re}(\\lambda_A)=\\text{Re}(\\mu_A)=\\text{Re}(\\lambda_B)=\\text{Re}(\\mu_B)$ and $\\text{Im}(\\lambda_A)+\\text{Im}(\\mu_A)=\\text{Im}(\\lambda_B)+\\text{Im}(\\mu_B)$. Then $W(A)=W(B)$."
   ]
  },
  {
   "cell_type": "code",
   "execution_count": 1,
   "metadata": {},
   "outputs": [],
   "source": [
    "import numpy as np\n",
    "from Imports.linalg_Zpi import linalg_Zpi\n",
    "from Imports.numrange_Zpi import numrange_Zpi"
   ]
  },
  {
   "cell_type": "code",
   "execution_count": 2,
   "metadata": {},
   "outputs": [
    {
     "name": "stdout",
     "output_type": "stream",
     "text": [
      "[[[0.+1.j]\n",
      "  [2.+3.j]]\n",
      "\n",
      " [[0.+1.j]\n",
      "  [2.+4.j]]\n",
      "\n",
      " [[0.+1.j]\n",
      "  [3.+2.j]]\n",
      "\n",
      " [[0.+1.j]\n",
      "  [3.+5.j]]\n",
      "\n",
      " [[0.+1.j]\n",
      "  [4.+2.j]]\n",
      "\n",
      " [[0.+1.j]\n",
      "  [4.+5.j]]\n",
      "\n",
      " [[0.+1.j]\n",
      "  [5.+3.j]]\n",
      "\n",
      " [[0.+1.j]\n",
      "  [5.+4.j]]]\n"
     ]
    }
   ],
   "source": [
    "linalg = linalg_Zpi(n=2, p=7)\n",
    "norm0 = np.load(\"Imports/norm0/p=7_n=2.npz\")[\"norm0\"]\n",
    "print(norm0)"
   ]
  },
  {
   "cell_type": "code",
   "execution_count": 6,
   "metadata": {},
   "outputs": [],
   "source": [
    "M = np.array([[complex(0,1), complex(0,1)],\n",
    "              [complex(2,3), complex(2,4)]])"
   ]
  },
  {
   "cell_type": "code",
   "execution_count": 7,
   "metadata": {},
   "outputs": [
    {
     "data": {
      "text/plain": [
       "array([[5.+3.j, 0.+1.j],\n",
       "       [2.+3.j, 0.+6.j]])"
      ]
     },
     "execution_count": 7,
     "metadata": {},
     "output_type": "execute_result"
    }
   ],
   "source": [
    "linalg.inv(M)"
   ]
  },
  {
   "cell_type": "code",
   "execution_count": 8,
   "metadata": {},
   "outputs": [],
   "source": [
    "def norm(v):\n",
    "    return int(linalg.prod((np.conj(v.transpose()),v)).real.item())"
   ]
  },
  {
   "cell_type": "code",
   "execution_count": 11,
   "metadata": {},
   "outputs": [
    {
     "data": {
      "text/plain": [
       "0"
      ]
     },
     "execution_count": 11,
     "metadata": {},
     "output_type": "execute_result"
    }
   ],
   "source": [
    "norm(np.array([[complex(5,3)], [complex(0,1)]]))"
   ]
  },
  {
   "cell_type": "code",
   "execution_count": 12,
   "metadata": {},
   "outputs": [
    {
     "data": {
      "text/plain": [
       "0"
      ]
     },
     "execution_count": 12,
     "metadata": {},
     "output_type": "execute_result"
    }
   ],
   "source": [
    "norm(np.array([[complex(2,3)], [complex(0,6)]]))"
   ]
  },
  {
   "cell_type": "code",
   "execution_count": 16,
   "metadata": {},
   "outputs": [],
   "source": [
    "linalg.mult(np.array([[complex(5,3)], [complex(0,1)]]), np.array([[complex(0,1)],[complex(2,3)]]))"
   ]
  },
  {
   "cell_type": "code",
   "execution_count": 17,
   "metadata": {},
   "outputs": [],
   "source": [
    "linalg.mult(np.array([[complex(5,3)], [complex(0,1)]]), np.array([[complex(0,1)],[complex(2,4)]]))"
   ]
  },
  {
   "cell_type": "code",
   "execution_count": 20,
   "metadata": {},
   "outputs": [
    {
     "data": {
      "text/plain": [
       "6"
      ]
     },
     "execution_count": 20,
     "metadata": {},
     "output_type": "execute_result"
    }
   ],
   "source": [
    "norm(linalg.sim_a(norm0[0] + norm0[1]))"
   ]
  },
  {
   "cell_type": "code",
   "execution_count": 21,
   "metadata": {},
   "outputs": [
    {
     "data": {
      "text/plain": [
       "array([[0.+1.j],\n",
       "       [2.+3.j]], dtype=complex64)"
      ]
     },
     "execution_count": 21,
     "metadata": {},
     "output_type": "execute_result"
    }
   ],
   "source": [
    "norm0[0]"
   ]
  },
  {
   "cell_type": "code",
   "execution_count": 22,
   "metadata": {},
   "outputs": [
    {
     "data": {
      "text/plain": [
       "array([[0.+1.j],\n",
       "       [2.+4.j]], dtype=complex64)"
      ]
     },
     "execution_count": 22,
     "metadata": {},
     "output_type": "execute_result"
    }
   ],
   "source": [
    "norm0[1]"
   ]
  },
  {
   "cell_type": "code",
   "execution_count": 24,
   "metadata": {},
   "outputs": [
    {
     "data": {
      "text/plain": [
       "array([[0.+2.j],\n",
       "       [4.+0.j]], dtype=complex64)"
      ]
     },
     "execution_count": 24,
     "metadata": {},
     "output_type": "execute_result"
    }
   ],
   "source": [
    "linalg.sim_a(norm0[0] + norm0[1])"
   ]
  },
  {
   "cell_type": "code",
   "execution_count": 25,
   "metadata": {},
   "outputs": [
    {
     "data": {
      "text/plain": [
       "6"
      ]
     },
     "execution_count": 25,
     "metadata": {},
     "output_type": "execute_result"
    }
   ],
   "source": [
    "norm(linalg.sim_a(norm0[0] + norm0[1]))"
   ]
  },
  {
   "cell_type": "code",
   "execution_count": null,
   "metadata": {},
   "outputs": [],
   "source": []
  }
 ],
 "metadata": {
  "kernelspec": {
   "display_name": "Python 3",
   "language": "python",
   "name": "python3"
  },
  "language_info": {
   "codemirror_mode": {
    "name": "ipython",
    "version": 3
   },
   "file_extension": ".py",
   "mimetype": "text/x-python",
   "name": "python",
   "nbconvert_exporter": "python",
   "pygments_lexer": "ipython3",
   "version": "3.7.6"
  }
 },
 "nbformat": 4,
 "nbformat_minor": 4
}
