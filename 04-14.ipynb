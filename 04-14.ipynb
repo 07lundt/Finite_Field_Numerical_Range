{
 "cells": [
  {
   "cell_type": "code",
   "execution_count": 1,
   "metadata": {},
   "outputs": [],
   "source": [
    "import numpy as np\n",
    "import itertools\n",
    "import matplotlib.pyplot as plt\n",
    "import os\n",
    "\n",
    "from Imports.linalg_Zpi import linalg_Zpi\n",
    "from Imports.numrange_Zpi import numrange_Zpi\n",
    "\n",
    "norm1 = np.load(\"Imports/norm1/p=7_n=2.npz\")[\"norm1\"]\n",
    "norm0 = np.load(\"Imports/norm0/p=7_n=2.npz\")[\"norm0\"]"
   ]
  },
  {
   "cell_type": "code",
   "execution_count": 2,
   "metadata": {},
   "outputs": [],
   "source": [
    "linalg = linalg_Zpi(n=2,p=7)"
   ]
  },
  {
   "cell_type": "code",
   "execution_count": 3,
   "metadata": {},
   "outputs": [],
   "source": [
    "eigvecs = (norm0[1], norm0[2])"
   ]
  },
  {
   "cell_type": "code",
   "execution_count": 4,
   "metadata": {},
   "outputs": [],
   "source": [
    "Z = np.arange(0,7)"
   ]
  },
  {
   "cell_type": "code",
   "execution_count": 5,
   "metadata": {},
   "outputs": [],
   "source": [
    "iter = itertools.product(Z,repeat=4)"
   ]
  },
  {
   "cell_type": "code",
   "execution_count": 6,
   "metadata": {},
   "outputs": [],
   "source": [
    "def W1(M, plot=True):\n",
    "    W1 = np.empty(len(norm1), dtype=np.csingle)\n",
    "\n",
    "    for i in range(len(norm1)):\n",
    "        x = norm1[i]\n",
    "        xstar = linalg.sim_a(np.conj(x.transpose()))\n",
    "\n",
    "        W1[i] = linalg.prod((xstar, M, x))\n",
    "\n",
    "    out = np.unique(W1)\n",
    "\n",
    "    if plot==True:\n",
    "        plt.scatter(out.real, out.imag, s=100, c='blue')\n",
    "        plt.axis([0, 6, 0, 6])\n",
    "        plt.show\n",
    "\n",
    "    return out    "
   ]
  },
  {
   "cell_type": "code",
   "execution_count": 8,
   "metadata": {},
   "outputs": [
    {
     "name": "stdout",
     "output_type": "stream",
     "text": [
      "Images/6/66_66/66_65\r"
     ]
    }
   ],
   "source": [
    "store = []\n",
    "\n",
    "for item in iter:\n",
    "    a1 = item[0]\n",
    "    b1 = item[1]\n",
    "    a2 = item[2]\n",
    "    b2 = item[3]\n",
    "    \n",
    "    eigvals = (complex(a1, b1), complex(a2, b2))\n",
    "    M = linalg.from_eigen(vecs = eigvecs, vals = eigvals)\n",
    "    \n",
    "    P = np.concatenate(eigvecs, axis=1)\n",
    "    P_inv = linalg.inv(P) \n",
    "    D = np.diag(eigvals)\n",
    "    F = linalg.prod((P,D,P_inv))\n",
    "    \n",
    "    numrange_Zpi(n=2, p=7, M=M).W1()\n",
    "    WF = np.sort_complex(W1(F))\n",
    "    plt.scatter(a1,b1,s=100,c=\"yellow\")\n",
    "    plt.scatter(a2,b2,s=100,c=\"yellow\")\n",
    "    \n",
    "    marker = \"\"\n",
    "    for i in range(len(WF)):\n",
    "        marker += str(int(WF[i].imag))\n",
    "\n",
    "    if marker not in store:\n",
    "        store.append(marker)\n",
    "        os.mkdir(\"/Users/timothylund/Desktop/Finite_Field_Numerical_Range/Images/\"+marker)\n",
    "    \n",
    "    string = \"Images/\"+marker+\"/\"+str(a1)+str(b1)+\"_\"+str(a2)+str(b2)\n",
    "    print(string, end=\"\\r\")\n",
    "    \n",
    "    plt.savefig(string)\n",
    "    plt.close()"
   ]
  },
  {
   "cell_type": "code",
   "execution_count": 5,
   "metadata": {},
   "outputs": [
    {
     "data": {
      "text/plain": [
       "2"
      ]
     },
     "execution_count": 5,
     "metadata": {},
     "output_type": "execute_result"
    }
   ],
   "source": [
    "linalg.div_tbl[1,2]"
   ]
  },
  {
   "cell_type": "code",
   "execution_count": null,
   "metadata": {},
   "outputs": [],
   "source": []
  }
 ],
 "metadata": {
  "kernelspec": {
   "display_name": "Python 3",
   "language": "python",
   "name": "python3"
  },
  "language_info": {
   "codemirror_mode": {
    "name": "ipython",
    "version": 3
   },
   "file_extension": ".py",
   "mimetype": "text/x-python",
   "name": "python",
   "nbconvert_exporter": "python",
   "pygments_lexer": "ipython3",
   "version": "3.7.6"
  }
 },
 "nbformat": 4,
 "nbformat_minor": 4
}
