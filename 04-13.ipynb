{
 "cells": [
  {
   "cell_type": "code",
   "execution_count": 2,
   "metadata": {},
   "outputs": [],
   "source": [
    "import numpy as np\n",
    "from Imports.linalg_Zpi import linalg_Zpi\n",
    "from Imports.numrange_Zpi import numrange_Zpi\n",
    "from itertools import permutations\n",
    "\n",
    "norm1 = np.load(\"Imports/norm1/p=7_n=2.npz\")[\"norm1\"]\n",
    "norm0 = np.load(\"Imports/norm0/p=7_n=2.npz\")[\"norm0\"]"
   ]
  },
  {
   "cell_type": "code",
   "execution_count": 3,
   "metadata": {},
   "outputs": [],
   "source": [
    "linalg = linalg_Zpi(n=2,p=7)"
   ]
  },
  {
   "cell_type": "code",
   "execution_count": 4,
   "metadata": {},
   "outputs": [
    {
     "data": {
      "text/plain": [
       "array([[0.+1.j],\n",
       "       [0.+0.j]], dtype=complex64)"
      ]
     },
     "execution_count": 4,
     "metadata": {},
     "output_type": "execute_result"
    }
   ],
   "source": [
    "norm1[1]"
   ]
  },
  {
   "cell_type": "code",
   "execution_count": 5,
   "metadata": {},
   "outputs": [],
   "source": [
    "eigvals = (complex(1,1), complex(3,2))\n",
    "eigvecs = (norm0[1], norm0[30])"
   ]
  },
  {
   "cell_type": "code",
   "execution_count": 6,
   "metadata": {},
   "outputs": [
    {
     "data": {
      "text/plain": [
       "(array([[0.+1.j],\n",
       "        [2.+3.j]], dtype=complex64),\n",
       " array([[1.+2.j],\n",
       "        [4.+0.j]], dtype=complex64))"
      ]
     },
     "execution_count": 6,
     "metadata": {},
     "output_type": "execute_result"
    }
   ],
   "source": [
    "eigvecs"
   ]
  },
  {
   "cell_type": "code",
   "execution_count": 7,
   "metadata": {},
   "outputs": [],
   "source": [
    "M = linalg.from_eigen(vecs = eigvecs, vals = eigvals)"
   ]
  },
  {
   "cell_type": "code",
   "execution_count": 8,
   "metadata": {},
   "outputs": [
    {
     "data": {
      "text/plain": [
       "array([[6.+4.j, 2.+5.j],\n",
       "       [6.+0.j, 5.+6.j]])"
      ]
     },
     "execution_count": 8,
     "metadata": {},
     "output_type": "execute_result"
    }
   ],
   "source": [
    "M"
   ]
  },
  {
   "cell_type": "code",
   "execution_count": 9,
   "metadata": {},
   "outputs": [],
   "source": [
    "import matplotlib.pyplot as plt"
   ]
  },
  {
   "cell_type": "code",
   "execution_count": 25,
   "metadata": {},
   "outputs": [
    {
     "data": {
      "image/png": "[encoded data removed]",
      "text/plain": [
       "<Figure size 504x504 with 1 Axes>"
      ]
     },
     "metadata": {
      "needs_background": "light"
     },
     "output_type": "display_data"
    }
   ],
   "source": [
    "plt.figure(figsize=(7,7))\n",
    "plt.plot(np.array([1,0]), np.array([0,2]), lw=2, c='r')\n",
    "plt.plot(np.array([0,2]), np.array([2,5]), lw=2, c='r')\n",
    "plt.plot(np.array([5,3]), np.array([6,3]), lw=2, c='r')\n",
    "plt.plot(np.array([1,3]), np.array([1,2]), lw=2, c='b')\n",
    "plt.text(0.75,3.75,\"3/2\")\n",
    "plt.text(0.25,0.5,\"-2/1\")\n",
    "plt.text(3.6,4.5,\"3/2\")\n",
    "plt.text(1.75,1.65,\"1/2\")\n",
    "\n",
    "numrange_Zpi(n=2, p=7, M=M).W1()\n",
    "plt.scatter(eigvals[0].real,eigvals[0].imag, c='b', s=200, marker=\"s\")\n",
    "plt.scatter(eigvals[1].real,eigvals[1].imag, c='b', s=200, marker=\"s\")\n",
    "#plt.scatter(linalg.div_complex((eigvals[0].real+eigvals[1].real),2), \n",
    "            #linalg.div_complex((eigvals[0].imag+eigvals[1].imag),2), c='gold', s=150, marker=\"P\")\n",
    "plt.show()"
   ]
  },
  {
   "cell_type": "code",
   "execution_count": 10,
   "metadata": {},
   "outputs": [
    {
     "data": {
      "text/plain": [
       "Text(0.2, 0.25, '[[0.+1.j],\\n [2.+4.j]]')"
      ]
     },
     "execution_count": 10,
     "metadata": {},
     "output_type": "execute_result"
    },
    {
     "data": {
      "image/png": "[encoded data removed]",
      "text/plain": [
       "<Figure size 432x288 with 1 Axes>"
      ]
     },
     "metadata": {
      "needs_background": "light"
     },
     "output_type": "display_data"
    }
   ],
   "source": [
    "plt.text(0.2,0.75,\n",
    "\"\"\"[[0.+1.j],\n",
    " [2.+3.j]]\"\"\")\n",
    "plt.text(0.2,0.25,\n",
    "\"\"\"[[0.+1.j],\n",
    " [2.+4.j]]\"\"\")"
   ]
  },
  {
   "cell_type": "code",
   "execution_count": null,
   "metadata": {},
   "outputs": [],
   "source": []
  },
  {
   "cell_type": "code",
   "execution_count": null,
   "metadata": {},
   "outputs": [],
   "source": []
  }
 ],
 "metadata": {
  "kernelspec": {
   "display_name": "Python 3",
   "language": "python",
   "name": "python3"
  },
  "language_info": {
   "codemirror_mode": {
    "name": "ipython",
    "version": 3
   },
   "file_extension": ".py",
   "mimetype": "text/x-python",
   "name": "python",
   "nbconvert_exporter": "python",
   "pygments_lexer": "ipython3",
   "version": "3.7.6"
  }
 },
 "nbformat": 4,
 "nbformat_minor": 4
}
