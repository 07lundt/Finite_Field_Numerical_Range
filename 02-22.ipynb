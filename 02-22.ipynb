{
 "cells": [
  {
   "cell_type": "code",
   "execution_count": 1,
   "metadata": {},
   "outputs": [],
   "source": [
    "# Create code to generate 2x2 unitary matrices in Z7[i] from unit vectors\n",
    "\n",
    "import numpy as np\n",
    "from Imports.linalg_Zpi import linalg_Zpi\n",
    "from Imports.numrange_Zpi import numrange_Zpi\n",
    "from itertools import permutations\n",
    "\n",
    "norm1 = np.load(\"Imports/norm1/p=7_n=2.npz\")[\"norm1\"]"
   ]
  },
  {
   "cell_type": "code",
   "execution_count": 2,
   "metadata": {},
   "outputs": [],
   "source": [
    "linalg = linalg_Zpi(n=2, p=7)\n",
    "indices = np.arange(len(norm1))"
   ]
  },
  {
   "cell_type": "code",
   "execution_count": 3,
   "metadata": {},
   "outputs": [],
   "source": [
    "I = np.array([[complex(1,0), complex(0,0)],\n",
    "              [complex(0,0), complex(1,0)]\n",
    "             ])"
   ]
  },
  {
   "cell_type": "code",
   "execution_count": 4,
   "metadata": {},
   "outputs": [],
   "source": [
    "mod = 7\n",
    "size=2\n",
    "\n",
    "p = list(permutations(indices, size))"
   ]
  },
  {
   "cell_type": "code",
   "execution_count": 5,
   "metadata": {},
   "outputs": [],
   "source": [
    "for i in range(len(p)):\n",
    "    tup = (norm1[p[i][0]], norm1[p[i][1]])\n",
    "    u = np.hstack(tup)\n",
    "    u_star = linalg.sim_a(np.conj(np.transpose(u)))\n",
    "    \n",
    "    if np.any(linalg.prod((u, u_star)) != I):\n",
    "        p[i] = -1"
   ]
  },
  {
   "cell_type": "code",
   "execution_count": 6,
   "metadata": {},
   "outputs": [],
   "source": [
    "p = [*set(p)]"
   ]
  },
  {
   "cell_type": "code",
   "execution_count": 7,
   "metadata": {},
   "outputs": [],
   "source": [
    "p.remove(-1)"
   ]
  },
  {
   "cell_type": "code",
   "execution_count": 22,
   "metadata": {},
   "outputs": [
    {
     "data": {
      "text/plain": [
       "42"
      ]
     },
     "execution_count": 22,
     "metadata": {},
     "output_type": "execute_result"
    }
   ],
   "source": [
    "len(p)"
   ]
  },
  {
   "cell_type": "code",
   "execution_count": 8,
   "metadata": {},
   "outputs": [
    {
     "name": "stdout",
     "output_type": "stream",
     "text": [
      "[[0.+3.j 2.+3.j]\n",
      " [5.+3.j 0.+4.j]]\n",
      "----------\n",
      "[[1.+3.j 1.+2.j]\n",
      " [6.+2.j 1.+4.j]]\n",
      "----------\n",
      "[[2.+3.j 0.+3.j]\n",
      " [0.+3.j 2.+4.j]]\n",
      "----------\n",
      "[[0.+3.j 2.+3.j]\n",
      " [3.+5.j 1.+6.j]]\n",
      "----------\n",
      "[[1.+2.j 1.+3.j]\n",
      " [1.+3.j 1.+2.j]]\n",
      "----------\n",
      "[[1.+3.j 1.+2.j]\n",
      " [5.+1.j 4.+1.j]]\n",
      "----------\n",
      "[[0.+2.j 0.+2.j]\n",
      " [5.+0.j 2.+0.j]]\n",
      "----------\n",
      "[[0.+2.j 0.+2.j]\n",
      " [4.+4.j 3.+3.j]]\n",
      "----------\n",
      "[[0.+2.j 0.+2.j]\n",
      " [3.+3.j 4.+4.j]]\n",
      "----------\n",
      "[[0.+2.j 0.+2.j]\n",
      " [2.+0.j 5.+0.j]]\n",
      "----------\n",
      "[[0.+2.j 0.+2.j]\n",
      " [3.+4.j 4.+3.j]]\n",
      "----------\n",
      "[[2.+3.j 0.+3.j]\n",
      " [4.+0.j 3.+2.j]]\n",
      "----------\n",
      "[[0.+2.j 0.+2.j]\n",
      " [4.+3.j 3.+4.j]]\n",
      "----------\n",
      "[[0.+3.j 2.+3.j]\n",
      " [2.+4.j 0.+3.j]]\n",
      "----------\n",
      "[[1.+2.j 1.+3.j]\n",
      " [6.+3.j 1.+5.j]]\n",
      "----------\n",
      "[[1.+3.j 1.+2.j]\n",
      " [2.+1.j 4.+6.j]]\n",
      "----------\n",
      "[[2.+3.j 0.+3.j]\n",
      " [1.+6.j 3.+5.j]]\n",
      "----------\n",
      "[[1.+2.j 1.+3.j]\n",
      " [1.+4.j 6.+2.j]]\n",
      "----------\n",
      "[[2.+3.j 0.+3.j]\n",
      " [6.+1.j 4.+2.j]]\n",
      "----------\n",
      "[[0.+2.j 0.+2.j]\n",
      " [0.+5.j 0.+2.j]]\n",
      "----------\n",
      "[[0.+3.j 2.+3.j]\n",
      " [5.+4.j 6.+6.j]]\n",
      "----------\n",
      "[[1.+3.j 1.+2.j]\n",
      " [6.+5.j 6.+4.j]]\n",
      "----------\n",
      "[[1.+3.j 1.+2.j]\n",
      " [1.+5.j 6.+3.j]]\n",
      "----------\n",
      "[[1.+2.j 1.+3.j]\n",
      " [3.+1.j 5.+6.j]]\n",
      "----------\n",
      "[[1.+3.j 1.+2.j]\n",
      " [2.+6.j 3.+6.j]]\n",
      "----------\n",
      "[[0.+3.j 2.+3.j]\n",
      " [4.+5.j 3.+0.j]]\n",
      "----------\n",
      "[[0.+2.j 0.+2.j]\n",
      " [0.+2.j 0.+5.j]]\n",
      "----------\n",
      "[[2.+3.j 0.+3.j]\n",
      " [6.+6.j 5.+4.j]]\n",
      "----------\n",
      "[[2.+3.j 0.+3.j]\n",
      " [0.+4.j 5.+3.j]]\n",
      "----------\n",
      "[[0.+1.j 0.+0.j]\n",
      " [0.+0.j 0.+1.j]]\n",
      "----------\n",
      "[[2.+3.j 0.+3.j]\n",
      " [3.+0.j 4.+5.j]]\n",
      "----------\n",
      "[[0.+3.j 2.+3.j]\n",
      " [4.+2.j 6.+1.j]]\n",
      "----------\n",
      "[[1.+3.j 1.+2.j]\n",
      " [1.+2.j 1.+3.j]]\n",
      "----------\n",
      "[[0.+0.j 0.+1.j]\n",
      " [0.+1.j 0.+0.j]]\n",
      "----------\n",
      "[[2.+3.j 0.+3.j]\n",
      " [1.+1.j 2.+3.j]]\n",
      "----------\n",
      "[[0.+3.j 2.+3.j]\n",
      " [2.+3.j 1.+1.j]]\n",
      "----------\n",
      "[[1.+2.j 1.+3.j]\n",
      " [4.+6.j 2.+1.j]]\n",
      "----------\n",
      "[[0.+3.j 2.+3.j]\n",
      " [3.+2.j 4.+0.j]]\n",
      "----------\n",
      "[[1.+2.j 1.+3.j]\n",
      " [3.+6.j 2.+6.j]]\n",
      "----------\n",
      "[[1.+2.j 1.+3.j]\n",
      " [6.+4.j 6.+5.j]]\n",
      "----------\n",
      "[[1.+3.j 1.+2.j]\n",
      " [5.+6.j 3.+1.j]]\n",
      "----------\n",
      "[[1.+2.j 1.+3.j]\n",
      " [4.+1.j 5.+1.j]]\n",
      "----------\n"
     ]
    }
   ],
   "source": [
    "for i in range(len(p)):\n",
    "    tup = (norm1[p[i][0]], norm1[p[i][1]])\n",
    "    u = np.hstack(tup)\n",
    "    u_star = linalg.sim_a(np.conj(np.transpose(u)))\n",
    "    print(u)\n",
    "    print(\"----------\")"
   ]
  },
  {
   "cell_type": "code",
   "execution_count": 9,
   "metadata": {},
   "outputs": [
    {
     "data": {
      "text/plain": [
       "array([[0.+2.j, 0.+6.j],\n",
       "       [0.+1.j, 3.+2.j]])"
      ]
     },
     "execution_count": 9,
     "metadata": {},
     "output_type": "execute_result"
    }
   ],
   "source": [
    "M = np.array([[complex(0,1), complex(0,1)],\n",
    "              [complex(2,3), complex(2,4)]])\n",
    "\n",
    "M_inv = linalg.inv(M)\n",
    "eigvals = (complex(5,6), complex(5,5))\n",
    "A = linalg.prod((M, np.diag(eigvals), M_inv))\n",
    "\n",
    "A"
   ]
  },
  {
   "cell_type": "code",
   "execution_count": 10,
   "metadata": {},
   "outputs": [
    {
     "data": {
      "text/plain": [
       "array([[4.+2.j, 0.+4.j],\n",
       "       [0.+3.j, 6.+2.j]])"
      ]
     },
     "execution_count": 10,
     "metadata": {},
     "output_type": "execute_result"
    }
   ],
   "source": [
    "B = linalg.prod((M, np.diag((complex(5,0), complex(5,4))), M_inv))\n",
    "\n",
    "B"
   ]
  },
  {
   "cell_type": "code",
   "execution_count": 11,
   "metadata": {},
   "outputs": [],
   "source": [
    "for i in range(len(p)):\n",
    "    tup = (norm1[p[i][0]], norm1[p[i][1]])\n",
    "    U = np.hstack(tup)\n",
    "    U_star = linalg.sim_a(np.conj(np.transpose(U)))\n",
    "    \n",
    "    pred = linalg.prod((U_star, A, U))\n",
    "    \n",
    "    if np.all(pred==B):\n",
    "        print(pred)\n",
    "        print(B)\n",
    "        print(\"----------\")"
   ]
  },
  {
   "cell_type": "code",
   "execution_count": 24,
   "metadata": {},
   "outputs": [
    {
     "name": "stdout",
     "output_type": "stream",
     "text": [
      "[[0.+0.j]\n",
      " [0.+1.j]] [[0.+6.j 0.+0.j]]\n",
      "1\n",
      "--------\n",
      "\n",
      "[[0.+2.j]\n",
      " [0.+2.j]] [[0.+5.j 0.+2.j]]\n",
      "2\n",
      "--------\n",
      "\n",
      "[[0.+2.j]\n",
      " [2.+0.j]] [[0.+5.j 5.+0.j]]\n",
      "3\n",
      "--------\n",
      "\n",
      "[[0.+2.j]\n",
      " [3.+3.j]] [[0.+5.j 4.+3.j]]\n",
      "4\n",
      "--------\n",
      "\n",
      "[[0.+2.j]\n",
      " [3.+4.j]] [[0.+5.j 4.+4.j]]\n",
      "5\n",
      "--------\n",
      "\n",
      "[[0.+3.j]\n",
      " [2.+3.j]] [[2.+4.j 1.+6.j]]\n",
      "6\n",
      "--------\n",
      "\n",
      "[[0.+3.j]\n",
      " [2.+4.j]] [[2.+4.j 0.+4.j]]\n",
      "7\n",
      "--------\n",
      "\n",
      "[[0.+3.j]\n",
      " [3.+2.j]] [[2.+4.j 4.+0.j]]\n",
      "8\n",
      "--------\n",
      "\n",
      "[[0.+3.j]\n",
      " [3.+5.j]] [[2.+4.j 1.+1.j]]\n",
      "9\n",
      "--------\n",
      "\n",
      "[[0.+3.j]\n",
      " [4.+2.j]] [[2.+4.j 6.+6.j]]\n",
      "10\n",
      "--------\n",
      "\n",
      "[[0.+3.j]\n",
      " [4.+5.j]] [[2.+4.j 3.+0.j]]\n",
      "11\n",
      "--------\n",
      "\n",
      "[[0.+3.j]\n",
      " [5.+3.j]] [[2.+4.j 0.+3.j]]\n",
      "12\n",
      "--------\n",
      "\n",
      "[[0.+3.j]\n",
      " [5.+4.j]] [[2.+4.j 6.+1.j]]\n",
      "13\n",
      "--------\n",
      "\n",
      "[[1.+2.j]\n",
      " [1.+3.j]] [[1.+4.j 1.+5.j]]\n",
      "14\n",
      "--------\n",
      "\n",
      "[[1.+2.j]\n",
      " [1.+4.j]] [[1.+4.j 6.+5.j]]\n",
      "15\n",
      "--------\n",
      "\n",
      "[[1.+2.j]\n",
      " [3.+1.j]] [[1.+4.j 5.+1.j]]\n",
      "16\n",
      "--------\n",
      "\n",
      "[[1.+2.j]\n",
      " [3.+6.j]] [[1.+4.j 2.+1.j]]\n",
      "17\n",
      "--------\n",
      "\n",
      "[[1.+2.j]\n",
      " [4.+1.j]] [[1.+4.j 5.+6.j]]\n",
      "18\n",
      "--------\n",
      "\n",
      "[[1.+2.j]\n",
      " [4.+6.j]] [[1.+4.j 2.+6.j]]\n",
      "19\n",
      "--------\n",
      "\n",
      "[[1.+2.j]\n",
      " [6.+3.j]] [[1.+4.j 1.+2.j]]\n",
      "20\n",
      "--------\n",
      "\n",
      "[[1.+2.j]\n",
      " [6.+4.j]] [[1.+4.j 6.+2.j]]\n",
      "21\n",
      "--------\n",
      "\n"
     ]
    }
   ],
   "source": [
    "count=0\n",
    "\n",
    "for i in range(len(norm1)):\n",
    "    x = norm1[i]\n",
    "    for j in range(i, len(norm1)):\n",
    "        y = linalg.sim_a(np.conj(np.transpose(norm1[j])))\n",
    "        if linalg.prod((y,x)).item()==0:\n",
    "            print(x,y)\n",
    "            count+=1\n",
    "            print(count)\n",
    "            print(\"--------\")\n",
    "            print()"
   ]
  },
  {
   "cell_type": "code",
   "execution_count": 30,
   "metadata": {},
   "outputs": [
    {
     "data": {
      "text/plain": [
       "array([0.+2.j, 1.+2.j, 2.+2.j, 3.+2.j, 4.+2.j, 5.+2.j, 6.+2.j],\n",
       "      dtype=complex64)"
      ]
     },
     "execution_count": 30,
     "metadata": {},
     "output_type": "execute_result"
    },
    {
     "data": {
      "image/png": "[encoded data removed]",
      "text/plain": [
       "<Figure size 432x288 with 1 Axes>"
      ]
     },
     "metadata": {
      "needs_background": "light"
     },
     "output_type": "display_data"
    }
   ],
   "source": [
    "from Imports.numrange_Zpi import numrange_Zpi\n",
    "\n",
    "numrange_Zpi(n=2, p=7, M=A).W1()"
   ]
  },
  {
   "cell_type": "code",
   "execution_count": 31,
   "metadata": {},
   "outputs": [
    {
     "data": {
      "text/plain": [
       "array([0.+2.j, 1.+2.j, 2.+2.j, 3.+2.j, 4.+2.j, 5.+2.j, 6.+2.j],\n",
       "      dtype=complex64)"
      ]
     },
     "execution_count": 31,
     "metadata": {},
     "output_type": "execute_result"
    },
    {
     "data": {
      "image/png": "[encoded data removed]",
      "text/plain": [
       "<Figure size 432x288 with 1 Axes>"
      ]
     },
     "metadata": {
      "needs_background": "light"
     },
     "output_type": "display_data"
    }
   ],
   "source": [
    "numrange_Zpi(n=2, p=7, M=B).W1()"
   ]
  },
  {
   "cell_type": "code",
   "execution_count": 32,
   "metadata": {},
   "outputs": [
    {
     "data": {
      "text/plain": [
       "array([[0.+2.j, 0.+6.j],\n",
       "       [0.+1.j, 3.+2.j]])"
      ]
     },
     "execution_count": 32,
     "metadata": {},
     "output_type": "execute_result"
    }
   ],
   "source": [
    "A"
   ]
  },
  {
   "cell_type": "code",
   "execution_count": 33,
   "metadata": {},
   "outputs": [],
   "source": [
    "tup = (norm1[p[14][0]], norm1[p[14][1]])\n",
    "U = np.hstack(tup)\n",
    "U_star = linalg.sim_a(np.conj(np.transpose(U)))"
   ]
  },
  {
   "cell_type": "code",
   "execution_count": 37,
   "metadata": {},
   "outputs": [],
   "source": [
    "C = linalg.prod((U_star, A, U))"
   ]
  },
  {
   "cell_type": "code",
   "execution_count": 38,
   "metadata": {},
   "outputs": [
    {
     "data": {
      "text/plain": [
       "array([[5.+2.j, 2.+1.j],\n",
       "       [2.+6.j, 5.+2.j]])"
      ]
     },
     "execution_count": 38,
     "metadata": {},
     "output_type": "execute_result"
    }
   ],
   "source": [
    "C"
   ]
  },
  {
   "cell_type": "code",
   "execution_count": 39,
   "metadata": {},
   "outputs": [
    {
     "data": {
      "text/plain": [
       "array([[0.+1.j, 0.+1.j],\n",
       "       [2.+3.j, 2.+4.j]])"
      ]
     },
     "execution_count": 39,
     "metadata": {},
     "output_type": "execute_result"
    }
   ],
   "source": [
    "# Eigenvectors of A\n",
    "M"
   ]
  },
  {
   "cell_type": "code",
   "execution_count": 40,
   "metadata": {},
   "outputs": [
    {
     "data": {
      "text/plain": [
       "array([[2.+6.j, 5.+5.j],\n",
       "       [6.+1.j, 4.+2.j]])"
      ]
     },
     "execution_count": 40,
     "metadata": {},
     "output_type": "execute_result"
    }
   ],
   "source": [
    "# Eigenvectors of C\n",
    "linalg.prod((U_star, M))"
   ]
  },
  {
   "cell_type": "code",
   "execution_count": 41,
   "metadata": {},
   "outputs": [
    {
     "data": {
      "text/plain": [
       "array([0.+2.j, 1.+2.j, 2.+2.j, 3.+2.j, 4.+2.j, 5.+2.j, 6.+2.j],\n",
       "      dtype=complex64)"
      ]
     },
     "execution_count": 41,
     "metadata": {},
     "output_type": "execute_result"
    },
    {
     "data": {
      "image/png": "[encoded data removed]",
      "text/plain": [
       "<Figure size 432x288 with 1 Axes>"
      ]
     },
     "metadata": {
      "needs_background": "light"
     },
     "output_type": "display_data"
    }
   ],
   "source": [
    "numrange_Zpi(n=2, p=7, M=C).W1()"
   ]
  },
  {
   "cell_type": "code",
   "execution_count": 43,
   "metadata": {},
   "outputs": [],
   "source": [
    "linalg.mult(M[:,0], linalg.prod((U_star, M))[:,0])"
   ]
  },
  {
   "cell_type": "code",
   "execution_count": 44,
   "metadata": {},
   "outputs": [],
   "source": [
    "linalg.mult(M[:,1], linalg.prod((U_star, M))[:,1])"
   ]
  },
  {
   "cell_type": "code",
   "execution_count": 45,
   "metadata": {},
   "outputs": [],
   "source": [
    "def norm(v):\n",
    "    return int(linalg.prod((np.conj(v.transpose()),v)).real.item())"
   ]
  },
  {
   "cell_type": "code",
   "execution_count": 50,
   "metadata": {},
   "outputs": [],
   "source": [
    "hello = linalg.prod((U_star, M))[:,0]"
   ]
  },
  {
   "cell_type": "code",
   "execution_count": 58,
   "metadata": {},
   "outputs": [],
   "source": [
    "hello2 = linalg.prod((U_star, M))[:,1]"
   ]
  },
  {
   "cell_type": "code",
   "execution_count": 56,
   "metadata": {},
   "outputs": [
    {
     "data": {
      "text/plain": [
       "0"
      ]
     },
     "execution_count": 56,
     "metadata": {},
     "output_type": "execute_result"
    }
   ],
   "source": [
    "norm(np.expand_dims(hello, axis=1))"
   ]
  },
  {
   "cell_type": "code",
   "execution_count": 60,
   "metadata": {},
   "outputs": [
    {
     "data": {
      "text/plain": [
       "0"
      ]
     },
     "execution_count": 60,
     "metadata": {},
     "output_type": "execute_result"
    }
   ],
   "source": [
    "norm(np.expand_dims(hello2, axis=1))"
   ]
  },
  {
   "cell_type": "code",
   "execution_count": 69,
   "metadata": {},
   "outputs": [],
   "source": [
    "A_eigvec0 = np.expand_dims(M[:,0], axis=1)"
   ]
  },
  {
   "cell_type": "code",
   "execution_count": 70,
   "metadata": {},
   "outputs": [],
   "source": [
    "A_eigvec1 = np.expand_dims(M[:,1], axis=1)"
   ]
  },
  {
   "cell_type": "code",
   "execution_count": 73,
   "metadata": {},
   "outputs": [
    {
     "data": {
      "text/plain": [
       "array([[3.+5.j]])"
      ]
     },
     "execution_count": 73,
     "metadata": {},
     "output_type": "execute_result"
    }
   ],
   "source": [
    "linalg.prod((np.conj(np.transpose(A_eigvec1)), A_eigvec0))"
   ]
  },
  {
   "cell_type": "code",
   "execution_count": null,
   "metadata": {},
   "outputs": [],
   "source": []
  }
 ],
 "metadata": {
  "kernelspec": {
   "display_name": "Python 3",
   "language": "python",
   "name": "python3"
  },
  "language_info": {
   "codemirror_mode": {
    "name": "ipython",
    "version": 3
   },
   "file_extension": ".py",
   "mimetype": "text/x-python",
   "name": "python",
   "nbconvert_exporter": "python",
   "pygments_lexer": "ipython3",
   "version": "3.7.6"
  }
 },
 "nbformat": 4,
 "nbformat_minor": 4
}
