{
 "cells": [
  {
   "cell_type": "markdown",
   "metadata": {},
   "source": [
    "# Conjecture: Real and imaginary parts of eigenvalues\n",
    "Let $A$ and $B$ be $2 \\times 2$ matrices in $\\mathbb{Z}_p[i]$ with norm-zero eigenvectors $\\vec{u}$ and $\\vec{v}$ with corresponding eigenvalues $\\lambda_A$, $\\mu_A$, $\\lambda_B$, $\\mu_B$ such that $\\text{Re}(\\lambda_A)=\\text{Re}(\\mu_A)=\\text{Re}(\\lambda_B)=\\text{Re}(\\mu_B)$ and $\\text{Im}(\\lambda_A)+\\text{Im}(\\mu_A)=\\text{Im}(\\lambda_B)+\\text{Im}(\\mu_B)$. Then $W(A)=W(B)$."
   ]
  },
  {
   "cell_type": "code",
   "execution_count": 1,
   "metadata": {},
   "outputs": [
    {
     "ename": "ModuleNotFoundError",
     "evalue": "No module named 'Imports'",
     "output_type": "error",
     "traceback": [
      "\u001b[0;31m---------------------------------------------------------------------------\u001b[0m",
      "\u001b[0;31mModuleNotFoundError\u001b[0m                       Traceback (most recent call last)",
      "\u001b[0;32m<ipython-input-1-6c737dedf3b7>\u001b[0m in \u001b[0;36m<module>\u001b[0;34m\u001b[0m\n\u001b[1;32m      1\u001b[0m \u001b[0;32mimport\u001b[0m \u001b[0mnumpy\u001b[0m \u001b[0;32mas\u001b[0m \u001b[0mnp\u001b[0m\u001b[0;34m\u001b[0m\u001b[0;34m\u001b[0m\u001b[0m\n\u001b[0;32m----> 2\u001b[0;31m \u001b[0;32mfrom\u001b[0m \u001b[0mImports\u001b[0m\u001b[0;34m.\u001b[0m\u001b[0mlinalg_Zpi\u001b[0m \u001b[0;32mimport\u001b[0m \u001b[0mlinalg_Zpi\u001b[0m\u001b[0;34m\u001b[0m\u001b[0;34m\u001b[0m\u001b[0m\n\u001b[0m\u001b[1;32m      3\u001b[0m \u001b[0;32mfrom\u001b[0m \u001b[0mImports\u001b[0m\u001b[0;34m.\u001b[0m\u001b[0mnumrange_Zpi\u001b[0m \u001b[0;32mimport\u001b[0m \u001b[0mnumrange_Zpi\u001b[0m\u001b[0;34m\u001b[0m\u001b[0;34m\u001b[0m\u001b[0m\n",
      "\u001b[0;31mModuleNotFoundError\u001b[0m: No module named 'Imports'"
     ]
    }
   ],
   "source": [
    "import numpy as np\n",
    "from Imports.linalg_Zpi import linalg_Zpi\n",
    "from Imports.numrange_Zpi import numrange_Zpi"
   ]
  },
  {
   "cell_type": "code",
   "execution_count": null,
   "metadata": {},
   "outputs": [],
   "source": [
    "linalg = linalg_Zpi(n=2, p=7)\n",
    "norm0 = np.load(\"Imports/norm0/p=7_n=2.npz\")[\"norm0\"]\n",
    "print(norm0)"
   ]
  },
  {
   "cell_type": "code",
   "execution_count": null,
   "metadata": {},
   "outputs": [],
   "source": []
  }
 ],
 "metadata": {
  "kernelspec": {
   "display_name": "Python 3",
   "language": "python",
   "name": "python3"
  },
  "language_info": {
   "codemirror_mode": {
    "name": "ipython",
    "version": 3
   },
   "file_extension": ".py",
   "mimetype": "text/x-python",
   "name": "python",
   "nbconvert_exporter": "python",
   "pygments_lexer": "ipython3",
   "version": "3.7.6"
  }
 },
 "nbformat": 4,
 "nbformat_minor": 4
}
