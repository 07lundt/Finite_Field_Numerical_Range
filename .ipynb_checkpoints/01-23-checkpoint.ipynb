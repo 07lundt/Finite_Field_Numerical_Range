{
 "cells": [
  {
   "cell_type": "markdown",
   "metadata": {},
   "source": [
    "# Goals: Test Conjecture 3 for Matrices with Different Eigenvectors"
   ]
  },
  {
   "cell_type": "code",
   "execution_count": 1,
   "metadata": {},
   "outputs": [],
   "source": [
    "import numpy as np\n",
    "from Imports.linalg_Zpi import linalg_Zpi\n",
    "from Imports.numrange_Zpi import numrange_Zpi"
   ]
  },
  {
   "cell_type": "code",
   "execution_count": 2,
   "metadata": {},
   "outputs": [
    {
     "name": "stdout",
     "output_type": "stream",
     "text": [
      "[[[0.+1.j]\n",
      "  [2.+3.j]]\n",
      "\n",
      " [[0.+1.j]\n",
      "  [2.+4.j]]\n",
      "\n",
      " [[0.+1.j]\n",
      "  [3.+2.j]]\n",
      "\n",
      " [[0.+1.j]\n",
      "  [3.+5.j]]\n",
      "\n",
      " [[0.+1.j]\n",
      "  [4.+2.j]]\n",
      "\n",
      " [[0.+1.j]\n",
      "  [4.+5.j]]\n",
      "\n",
      " [[0.+1.j]\n",
      "  [5.+3.j]]\n",
      "\n",
      " [[0.+1.j]\n",
      "  [5.+4.j]]]\n"
     ]
    }
   ],
   "source": [
    "linalg = linalg_Zpi(n=2, p=7)\n",
    "norm0 = np.load(\"Imports/norm0/p=7_n=2.npz\")[\"norm0\"]\n",
    "print(norm0)"
   ]
  },
  {
   "cell_type": "markdown",
   "metadata": {},
   "source": [
    "### Define my new eigenvectors"
   ]
  },
  {
   "cell_type": "code",
   "execution_count": 5,
   "metadata": {},
   "outputs": [
    {
     "data": {
      "text/plain": [
       "(array([[0.+1.j],\n",
       "        [2.+4.j]], dtype=complex64),\n",
       " array([[0.+1.j],\n",
       "        [3.+2.j]], dtype=complex64))"
      ]
     },
     "execution_count": 5,
     "metadata": {},
     "output_type": "execute_result"
    }
   ],
   "source": [
    "vecs = (norm0[1], norm0[2])\n",
    "vecs"
   ]
  },
  {
   "cell_type": "markdown",
   "metadata": {},
   "source": [
    "### Try eigenvalues with the same real part and same sums of imaginary parts"
   ]
  },
  {
   "cell_type": "code",
   "execution_count": 7,
   "metadata": {},
   "outputs": [],
   "source": [
    "vals1 = (complex(1,1), complex(1,0))\n",
    "vals2 = (complex(1,2), complex(1,6))\n",
    "vals3 = (complex(1,3), complex(1,5))\n",
    "vals4 = (complex(1,4), complex(1,4)) # The only difference is when the two eigenvalues are equal, in which case W is the eigenvalue itself (interesting...)"
   ]
  },
  {
   "cell_type": "code",
   "execution_count": 8,
   "metadata": {},
   "outputs": [
    {
     "data": {
      "text/plain": [
       "array([0.+4.j, 1.+4.j, 2.+4.j, 3.+4.j, 4.+4.j, 5.+4.j, 6.+4.j],\n",
       "      dtype=complex64)"
      ]
     },
     "execution_count": 8,
     "metadata": {},
     "output_type": "execute_result"
    },
    {
     "data": {
      "image/png": "[encoded data removed]",
      "text/plain": [
       "<Figure size 432x288 with 1 Axes>"
      ]
     },
     "metadata": {
      "needs_background": "light"
     },
     "output_type": "display_data"
    }
   ],
   "source": [
    "numrange_Zpi(n=2, p=7, M=linalg.from_eigen(vals=vals1, vecs=vecs)).W1()"
   ]
  },
  {
   "cell_type": "code",
   "execution_count": 11,
   "metadata": {},
   "outputs": [
    {
     "data": {
      "text/plain": [
       "array([1.+4.j], dtype=complex64)"
      ]
     },
     "execution_count": 11,
     "metadata": {},
     "output_type": "execute_result"
    },
    {
     "data": {
      "image/png": "[encoded data removed]",
      "text/plain": [
       "<Figure size 432x288 with 1 Axes>"
      ]
     },
     "metadata": {
      "needs_background": "light"
     },
     "output_type": "display_data"
    }
   ],
   "source": [
    "numrange_Zpi(n=2, p=7, M=linalg.from_eigen(vals=vals4, vecs=vecs)).W1()"
   ]
  },
  {
   "cell_type": "markdown",
   "metadata": {},
   "source": [
    "### Now we change the sum of the imaginary parts but keep everything the same"
   ]
  },
  {
   "cell_type": "code",
   "execution_count": 12,
   "metadata": {},
   "outputs": [],
   "source": [
    "vals1 = (complex(1,2), complex(1,0))\n",
    "vals2 = (complex(1,3), complex(1,6))\n",
    "vals3 = (complex(1,4), complex(1,5))\n",
    "vals4 = (complex(1,1), complex(1,1)) "
   ]
  },
  {
   "cell_type": "code",
   "execution_count": 13,
   "metadata": {},
   "outputs": [
    {
     "data": {
      "text/plain": [
       "array([0.+1.j, 1.+1.j, 2.+1.j, 3.+1.j, 4.+1.j, 5.+1.j, 6.+1.j],\n",
       "      dtype=complex64)"
      ]
     },
     "execution_count": 13,
     "metadata": {},
     "output_type": "execute_result"
    },
    {
     "data": {
      "image/png": "[encoded data removed]",
      "text/plain": [
       "<Figure size 432x288 with 1 Axes>"
      ]
     },
     "metadata": {
      "needs_background": "light"
     },
     "output_type": "display_data"
    }
   ],
   "source": [
    "numrange_Zpi(n=2, p=7, M=linalg.from_eigen(vals=vals1, vecs=vecs)).W1()"
   ]
  },
  {
   "cell_type": "code",
   "execution_count": 16,
   "metadata": {},
   "outputs": [
    {
     "data": {
      "text/plain": [
       "array([1.+1.j], dtype=complex64)"
      ]
     },
     "execution_count": 16,
     "metadata": {},
     "output_type": "execute_result"
    },
    {
     "data": {
      "image/png": "[encoded data removed]",
      "text/plain": [
       "<Figure size 432x288 with 1 Axes>"
      ]
     },
     "metadata": {
      "needs_background": "light"
     },
     "output_type": "display_data"
    }
   ],
   "source": [
    "numrange_Zpi(n=2, p=7, M=linalg.from_eigen(vals=vals4, vecs=vecs)).W1()"
   ]
  },
  {
   "cell_type": "markdown",
   "metadata": {},
   "source": [
    "# Conjecture? \n",
    "When we have the same real parts and imaginary parts summing to the same value $x$, the numerical range is a horizontal line at $x/2$"
   ]
  },
  {
   "cell_type": "markdown",
   "metadata": {},
   "source": [
    "### Now we change the real parts but keep everything the same"
   ]
  },
  {
   "cell_type": "code",
   "execution_count": 22,
   "metadata": {},
   "outputs": [],
   "source": [
    "vals1 = (complex(4,1), complex(4,0))\n",
    "vals2 = (complex(4,2), complex(4,6))\n",
    "vals3 = (complex(4,3), complex(4,5))\n",
    "vals4 = (complex(4,4), complex(4,4)) "
   ]
  },
  {
   "cell_type": "code",
   "execution_count": 23,
   "metadata": {},
   "outputs": [
    {
     "data": {
      "text/plain": [
       "array([0.+4.j, 1.+4.j, 2.+4.j, 3.+4.j, 4.+4.j, 5.+4.j, 6.+4.j],\n",
       "      dtype=complex64)"
      ]
     },
     "execution_count": 23,
     "metadata": {},
     "output_type": "execute_result"
    },
    {
     "data": {
      "image/png": "[encoded data removed]",
      "text/plain": [
       "<Figure size 432x288 with 1 Axes>"
      ]
     },
     "metadata": {
      "needs_background": "light"
     },
     "output_type": "display_data"
    }
   ],
   "source": [
    "numrange_Zpi(n=2, p=7, M=linalg.from_eigen(vals=vals1, vecs=vecs)).W1()"
   ]
  },
  {
   "cell_type": "code",
   "execution_count": 21,
   "metadata": {},
   "outputs": [
    {
     "data": {
      "text/plain": [
       "array([4.+4.j], dtype=complex64)"
      ]
     },
     "execution_count": 21,
     "metadata": {},
     "output_type": "execute_result"
    },
    {
     "data": {
      "image/png": "[encoded data removed]",
      "text/plain": [
       "<Figure size 432x288 with 1 Axes>"
      ]
     },
     "metadata": {
      "needs_background": "light"
     },
     "output_type": "display_data"
    }
   ],
   "source": [
    "numrange_Zpi(n=2, p=7, M=linalg.from_eigen(vals=vals4, vecs=vecs)).W1()"
   ]
  },
  {
   "cell_type": "code",
   "execution_count": null,
   "metadata": {},
   "outputs": [],
   "source": [
    "# Somehow, this is exactly the same as when the real parts were all 1. Does the real part not have an effect?"
   ]
  },
  {
   "cell_type": "markdown",
   "metadata": {},
   "source": [
    "### Once again, we're going to change the real parts but keep the rest the same."
   ]
  },
  {
   "cell_type": "code",
   "execution_count": 28,
   "metadata": {},
   "outputs": [],
   "source": [
    "vals1 = (complex(3,1), complex(3,0))\n",
    "vals2 = (complex(3,2), complex(3,6))\n",
    "vals3 = (complex(3,3), complex(3,5))\n",
    "vals4 = (complex(3,4), complex(3,4)) "
   ]
  },
  {
   "cell_type": "code",
   "execution_count": 29,
   "metadata": {},
   "outputs": [
    {
     "data": {
      "text/plain": [
       "array([0.+4.j, 1.+4.j, 2.+4.j, 3.+4.j, 4.+4.j, 5.+4.j, 6.+4.j],\n",
       "      dtype=complex64)"
      ]
     },
     "execution_count": 29,
     "metadata": {},
     "output_type": "execute_result"
    },
    {
     "data": {
      "image/png": "[encoded data removed]",
      "text/plain": [
       "<Figure size 432x288 with 1 Axes>"
      ]
     },
     "metadata": {
      "needs_background": "light"
     },
     "output_type": "display_data"
    }
   ],
   "source": [
    "numrange_Zpi(n=2, p=7, M=linalg.from_eigen(vals=vals1, vecs=vecs)).W1()"
   ]
  },
  {
   "cell_type": "code",
   "execution_count": 30,
   "metadata": {},
   "outputs": [],
   "source": [
    "vals1 = (complex(5,1), complex(5,0))\n",
    "vals2 = (complex(5,2), complex(5,6))\n",
    "vals3 = (complex(5,3), complex(5,5))\n",
    "vals4 = (complex(5,4), complex(5,4)) "
   ]
  },
  {
   "cell_type": "code",
   "execution_count": 31,
   "metadata": {},
   "outputs": [
    {
     "data": {
      "text/plain": [
       "array([0.+4.j, 1.+4.j, 2.+4.j, 3.+4.j, 4.+4.j, 5.+4.j, 6.+4.j],\n",
       "      dtype=complex64)"
      ]
     },
     "execution_count": 31,
     "metadata": {},
     "output_type": "execute_result"
    },
    {
     "data": {
      "image/png": "[encoded data removed]",
      "text/plain": [
       "<Figure size 432x288 with 1 Axes>"
      ]
     },
     "metadata": {
      "needs_background": "light"
     },
     "output_type": "display_data"
    }
   ],
   "source": [
    "numrange_Zpi(n=2, p=7, M=linalg.from_eigen(vals=vals1, vecs=vecs)).W1()"
   ]
  },
  {
   "cell_type": "markdown",
   "metadata": {},
   "source": [
    "# Conjecture?\n",
    "\n",
    "When we have all the real parts the same, the value of the real part has no effect on the shape of the numerical range."
   ]
  },
  {
   "cell_type": "markdown",
   "metadata": {},
   "source": [
    "### Now we're going to try a different sum of imaginary parts and switch around the real part"
   ]
  },
  {
   "cell_type": "code",
   "execution_count": 32,
   "metadata": {},
   "outputs": [],
   "source": [
    "vals1 = (complex(2,2), complex(2,0))\n",
    "vals2 = (complex(2,3), complex(2,6))\n",
    "vals3 = (complex(2,4), complex(2,5))\n",
    "vals4 = (complex(2,1), complex(2,1)) "
   ]
  },
  {
   "cell_type": "code",
   "execution_count": 41,
   "metadata": {},
   "outputs": [
    {
     "data": {
      "text/plain": [
       "array([0.+1.j, 1.+1.j, 2.+1.j, 3.+1.j, 4.+1.j, 5.+1.j, 6.+1.j],\n",
       "      dtype=complex64)"
      ]
     },
     "execution_count": 41,
     "metadata": {},
     "output_type": "execute_result"
    },
    {
     "data": {
      "image/png": "[encoded data removed]",
      "text/plain": [
       "<Figure size 432x288 with 1 Axes>"
      ]
     },
     "metadata": {
      "needs_background": "light"
     },
     "output_type": "display_data"
    }
   ],
   "source": [
    "numrange_Zpi(n=2, p=7, M=linalg.from_eigen(vals=vals1, vecs=vecs)).W1()"
   ]
  },
  {
   "cell_type": "code",
   "execution_count": 34,
   "metadata": {},
   "outputs": [],
   "source": [
    "vals1 = (complex(3,2), complex(3,0))\n",
    "vals2 = (complex(3,3), complex(3,6))\n",
    "vals3 = (complex(3,4), complex(3,5))\n",
    "vals4 = (complex(3,1), complex(3,1)) "
   ]
  },
  {
   "cell_type": "code",
   "execution_count": 40,
   "metadata": {},
   "outputs": [
    {
     "data": {
      "text/plain": [
       "array([0.+1.j, 1.+1.j, 2.+1.j, 3.+1.j, 4.+1.j, 5.+1.j, 6.+1.j],\n",
       "      dtype=complex64)"
      ]
     },
     "execution_count": 40,
     "metadata": {},
     "output_type": "execute_result"
    },
    {
     "data": {
      "image/png": "[encoded data removed]",
      "text/plain": [
       "<Figure size 432x288 with 1 Axes>"
      ]
     },
     "metadata": {
      "needs_background": "light"
     },
     "output_type": "display_data"
    }
   ],
   "source": [
    "numrange_Zpi(n=2, p=7, M=linalg.from_eigen(vals=vals1, vecs=vecs)).W1()"
   ]
  },
  {
   "cell_type": "markdown",
   "metadata": {},
   "source": [
    "## Now we will try things with eigenvalues that DO NOT share any real or imaginary parts, but have the same real and imaginary sums"
   ]
  },
  {
   "cell_type": "code",
   "execution_count": 55,
   "metadata": {},
   "outputs": [],
   "source": [
    "vals0 = (complex(0,0), complex(1,1))\n",
    "vals1 = (complex(0,1), complex(1,0))\n",
    "vals2 = (complex(0,2), complex(1,6))\n",
    "vals3 = (complex(0,3), complex(1,5))\n",
    "vals4 = (complex(0,4), complex(1,4))\n",
    "vals5 = (complex(0,5), complex(1,3))\n",
    "vals6 = (complex(0,6), complex(1,2))"
   ]
  },
  {
   "cell_type": "code",
   "execution_count": 63,
   "metadata": {},
   "outputs": [
    {
     "data": {
      "text/plain": [
       "(array([[0.+1.j],\n",
       "        [2.+4.j]], dtype=complex64),\n",
       " array([[0.+1.j],\n",
       "        [3.+2.j]], dtype=complex64))"
      ]
     },
     "execution_count": 63,
     "metadata": {},
     "output_type": "execute_result"
    }
   ],
   "source": [
    "vecs"
   ]
  },
  {
   "cell_type": "code",
   "execution_count": 56,
   "metadata": {},
   "outputs": [
    {
     "data": {
      "text/plain": [
       "array([0.+1.j, 1.+0.j, 2.+6.j, 3.+5.j, 4.+4.j, 5.+3.j, 6.+2.j],\n",
       "      dtype=complex64)"
      ]
     },
     "execution_count": 56,
     "metadata": {},
     "output_type": "execute_result"
    },
    {
     "data": {
      "image/png": "[encoded data removed]",
      "text/plain": [
       "<Figure size 432x288 with 1 Axes>"
      ]
     },
     "metadata": {
      "needs_background": "light"
     },
     "output_type": "display_data"
    }
   ],
   "source": [
    "numrange_Zpi(n=2, p=7, M=linalg.from_eigen(vals=vals0, vecs=vecs)).W1()"
   ]
  },
  {
   "cell_type": "markdown",
   "metadata": {},
   "source": [
    "- Slope: -1=6\n",
    "    - $Re(a) - Re(b) = 0-1=-1$?\n",
    "- Intercept: 1\n",
    "\n",
    "`vals0 = (complex(0,0), complex(1,1))`"
   ]
  },
  {
   "cell_type": "code",
   "execution_count": 57,
   "metadata": {},
   "outputs": [
    {
     "data": {
      "text/plain": [
       "array([0.+0.j, 1.+1.j, 2.+2.j, 3.+3.j, 4.+4.j, 5.+5.j, 6.+6.j],\n",
       "      dtype=complex64)"
      ]
     },
     "execution_count": 57,
     "metadata": {},
     "output_type": "execute_result"
    },
    {
     "data": {
      "image/png": "[encoded data removed]",
      "text/plain": [
       "<Figure size 432x288 with 1 Axes>"
      ]
     },
     "metadata": {
      "needs_background": "light"
     },
     "output_type": "display_data"
    }
   ],
   "source": [
    "numrange_Zpi(n=2, p=7, M=linalg.from_eigen(vals=vals1, vecs=vecs)).W1()"
   ]
  },
  {
   "cell_type": "markdown",
   "metadata": {},
   "source": [
    "- Slope: 1\n",
    "- Intercept: 0\n",
    "    - $Re(b)=0$?\n",
    "\n",
    "`vals1 = (complex(0,1), complex(1,0))`"
   ]
  },
  {
   "cell_type": "code",
   "execution_count": 58,
   "metadata": {},
   "outputs": [
    {
     "data": {
      "text/plain": [
       "array([0.+5.j, 1.+3.j, 2.+1.j, 3.+6.j, 4.+4.j, 5.+2.j, 6.+0.j],\n",
       "      dtype=complex64)"
      ]
     },
     "execution_count": 58,
     "metadata": {},
     "output_type": "execute_result"
    },
    {
     "data": {
      "image/png": "[encoded data removed]",
      "text/plain": [
       "<Figure size 432x288 with 1 Axes>"
      ]
     },
     "metadata": {
      "needs_background": "light"
     },
     "output_type": "display_data"
    }
   ],
   "source": [
    "numrange_Zpi(n=2, p=7, M=linalg.from_eigen(vals=vals2, vecs=vecs)).W1()"
   ]
  },
  {
   "cell_type": "markdown",
   "metadata": {},
   "source": [
    "- Slope: -2=5\n",
    "- Intercept: 5\n",
    "\n",
    "`vals2 = (complex(0,2), complex(1,6))`"
   ]
  },
  {
   "cell_type": "code",
   "execution_count": 59,
   "metadata": {},
   "outputs": [
    {
     "data": {
      "text/plain": [
       "array([0.+6.j, 1.+2.j, 2.+5.j, 3.+1.j, 4.+4.j, 5.+0.j, 6.+3.j],\n",
       "      dtype=complex64)"
      ]
     },
     "execution_count": 59,
     "metadata": {},
     "output_type": "execute_result"
    },
    {
     "data": {
      "image/png": "[encoded data removed]",
      "text/plain": [
       "<Figure size 432x288 with 1 Axes>"
      ]
     },
     "metadata": {
      "needs_background": "light"
     },
     "output_type": "display_data"
    }
   ],
   "source": [
    "numrange_Zpi(n=2, p=7, M=linalg.from_eigen(vals=vals3, vecs=vecs)).W1()"
   ]
  },
  {
   "cell_type": "markdown",
   "metadata": {},
   "source": [
    "- Slope: 3=-1/2\n",
    "- Intercept=6\n",
    "\n",
    "`vals3 = (complex(0,3), complex(1,5))`"
   ]
  },
  {
   "cell_type": "code",
   "execution_count": 48,
   "metadata": {},
   "outputs": [],
   "source": [
    "vals0 = (complex(1,0), complex(0,1))\n",
    "vals1 = (complex(1,1), complex(0,0))\n",
    "vals2 = (complex(1,2), complex(0,6))\n",
    "vals3 = (complex(1,3), complex(0,5))\n",
    "vals4 = (complex(1,4), complex(0,4))\n",
    "vals5 = (complex(1,5), complex(0,3))\n",
    "vals6 = (complex(1,6), complex(0,2))"
   ]
  },
  {
   "cell_type": "code",
   "execution_count": 49,
   "metadata": {},
   "outputs": [
    {
     "data": {
      "text/plain": [
       "array([0.+0.j, 1.+1.j, 2.+2.j, 3.+3.j, 4.+4.j, 5.+5.j, 6.+6.j],\n",
       "      dtype=complex64)"
      ]
     },
     "execution_count": 49,
     "metadata": {},
     "output_type": "execute_result"
    },
    {
     "data": {
      "image/png": "[encoded data removed]",
      "text/plain": [
       "<Figure size 432x288 with 1 Axes>"
      ]
     },
     "metadata": {
      "needs_background": "light"
     },
     "output_type": "display_data"
    }
   ],
   "source": [
    "numrange_Zpi(n=2, p=7, M=linalg.from_eigen(vals=vals0, vecs=vecs)).W1()"
   ]
  },
  {
   "cell_type": "code",
   "execution_count": 50,
   "metadata": {},
   "outputs": [
    {
     "data": {
      "text/plain": [
       "array([0.+1.j, 1.+0.j, 2.+6.j, 3.+5.j, 4.+4.j, 5.+3.j, 6.+2.j],\n",
       "      dtype=complex64)"
      ]
     },
     "execution_count": 50,
     "metadata": {},
     "output_type": "execute_result"
    },
    {
     "data": {
      "image/png": "[encoded data removed]",
      "text/plain": [
       "<Figure size 432x288 with 1 Axes>"
      ]
     },
     "metadata": {
      "needs_background": "light"
     },
     "output_type": "display_data"
    }
   ],
   "source": [
    "numrange_Zpi(n=2, p=7, M=linalg.from_eigen(vals=vals1, vecs=vecs)).W1()"
   ]
  },
  {
   "cell_type": "code",
   "execution_count": 51,
   "metadata": {},
   "outputs": [
    {
     "data": {
      "text/plain": [
       "array([0.+3.j, 1.+5.j, 2.+0.j, 3.+2.j, 4.+4.j, 5.+6.j, 6.+1.j],\n",
       "      dtype=complex64)"
      ]
     },
     "execution_count": 51,
     "metadata": {},
     "output_type": "execute_result"
    },
    {
     "data": {
      "image/png": "[encoded data removed]",
      "text/plain": [
       "<Figure size 432x288 with 1 Axes>"
      ]
     },
     "metadata": {
      "needs_background": "light"
     },
     "output_type": "display_data"
    }
   ],
   "source": [
    "numrange_Zpi(n=2, p=7, M=linalg.from_eigen(vals=vals2, vecs=vecs)).W1()"
   ]
  },
  {
   "cell_type": "code",
   "execution_count": 52,
   "metadata": {},
   "outputs": [
    {
     "data": {
      "text/plain": [
       "array([0.+2.j, 1.+6.j, 2.+3.j, 3.+0.j, 4.+4.j, 5.+1.j, 6.+5.j],\n",
       "      dtype=complex64)"
      ]
     },
     "execution_count": 52,
     "metadata": {},
     "output_type": "execute_result"
    },
    {
     "data": {
      "image/png": "[encoded data removed]",
      "text/plain": [
       "<Figure size 432x288 with 1 Axes>"
      ]
     },
     "metadata": {
      "needs_background": "light"
     },
     "output_type": "display_data"
    }
   ],
   "source": [
    "numrange_Zpi(n=2, p=7, M=linalg.from_eigen(vals=vals3, vecs=vecs)).W1()"
   ]
  },
  {
   "cell_type": "markdown",
   "metadata": {},
   "source": [
    "## Conclusion: No clue"
   ]
  },
  {
   "cell_type": "code",
   "execution_count": null,
   "metadata": {},
   "outputs": [],
   "source": [
    "vals0 = (complex(2,0), complex(6,1))\n",
    "vals1 = (complex(2,1), complex(6,0))\n",
    "vals2 = (complex(2,2), complex(6,6))\n",
    "vals3 = (complex(2,3), complex(6,5))\n",
    "vals4 = (complex(2,4), complex(6,4))\n",
    "vals5 = (complex(2,5), complex(6,3))\n",
    "vals6 = (complex(2,6), complex(6,2))"
   ]
  }
 ],
 "metadata": {
  "kernelspec": {
   "display_name": "Python 3",
   "language": "python",
   "name": "python3"
  },
  "language_info": {
   "codemirror_mode": {
    "name": "ipython",
    "version": 3
   },
   "file_extension": ".py",
   "mimetype": "text/x-python",
   "name": "python",
   "nbconvert_exporter": "python",
   "pygments_lexer": "ipython3",
   "version": "3.7.6"
  }
 },
 "nbformat": 4,
 "nbformat_minor": 4
}
