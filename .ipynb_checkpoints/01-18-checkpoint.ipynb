{
 "cells": [
  {
   "cell_type": "markdown",
   "metadata": {},
   "source": [
    "# GOALS:\n",
    "- Re-looking at the numerical ranges calculated with Kristin"
   ]
  },
  {
   "cell_type": "code",
   "execution_count": 1,
   "metadata": {},
   "outputs": [],
   "source": [
    "import numpy as np\n",
    "from Imports.linalg_Zpi import linalg_Zpi\n",
    "from Imports.numrange_Zpi import numrange_Zpi"
   ]
  },
  {
   "cell_type": "code",
   "execution_count": 2,
   "metadata": {},
   "outputs": [
    {
     "name": "stdout",
     "output_type": "stream",
     "text": [
      "[[[0.+1.j]\n",
      "  [2.+3.j]]\n",
      "\n",
      " [[0.+1.j]\n",
      "  [2.+4.j]]\n",
      "\n",
      " [[0.+1.j]\n",
      "  [3.+2.j]]\n",
      "\n",
      " [[0.+1.j]\n",
      "  [3.+5.j]]\n",
      "\n",
      " [[0.+1.j]\n",
      "  [4.+2.j]]\n",
      "\n",
      " [[0.+1.j]\n",
      "  [4.+5.j]]\n",
      "\n",
      " [[0.+1.j]\n",
      "  [5.+3.j]]\n",
      "\n",
      " [[0.+1.j]\n",
      "  [5.+4.j]]]\n"
     ]
    }
   ],
   "source": [
    "linalg = linalg_Zpi(n=2, p=7)\n",
    "norm0 = np.load(\"Imports/norm0/p=7_n=2.npz\")[\"norm0\"]\n",
    "print(norm0)"
   ]
  },
  {
   "cell_type": "code",
   "execution_count": 3,
   "metadata": {},
   "outputs": [],
   "source": [
    "vec1 = np.array([[complex(0,1)],\n",
    "                 [complex(2,3)]\n",
    "                ])\n",
    "\n",
    "vec2 = np.array([[complex(0,1)],\n",
    "                 [complex(2,4)]\n",
    "                ])"
   ]
  },
  {
   "cell_type": "code",
   "execution_count": 4,
   "metadata": {},
   "outputs": [],
   "source": [
    "vecs = (vec1, vec2)\n",
    "vals=(complex(2,0),complex(3,0))"
   ]
  },
  {
   "cell_type": "code",
   "execution_count": 5,
   "metadata": {},
   "outputs": [
    {
     "name": "stdout",
     "output_type": "stream",
     "text": [
      "[[6.+2.j 1.+0.j]\n",
      " [6.+0.j 6.+5.j]]\n"
     ]
    }
   ],
   "source": [
    "A_2_3 = linalg.from_eigen(vals=vals, vecs=vecs)\n",
    "print(A_2_3)"
   ]
  },
  {
   "cell_type": "code",
   "execution_count": 6,
   "metadata": {},
   "outputs": [
    {
     "name": "stdout",
     "output_type": "stream",
     "text": [
      "[6.+0.j 6.+1.j 6.+2.j 6.+3.j 6.+4.j 6.+5.j 6.+6.j]\n"
     ]
    },
    {
     "data": {
      "image/png": "[encoded data removed]",
      "text/plain": [
       "<Figure size 432x288 with 1 Axes>"
      ]
     },
     "metadata": {
      "needs_background": "light"
     },
     "output_type": "display_data"
    }
   ],
   "source": [
    "W_A_2_3 = numrange_Zpi(n=2, p=7, M=A_2_3)\n",
    "print(W_A_2_3.W1())"
   ]
  },
  {
   "cell_type": "markdown",
   "metadata": {},
   "source": [
    "Try:\n",
    "- One eigenvalue 5 and one complex eigenvalue with real part 5\n",
    "- Swapping the order of the eigenvalues\n",
    "    - Will it transpose a vertical line to a horizontal? NO\n",
    "    \n",
    "    \n",
    "Conjecture 1:\n",
    "$W(A_{ab}) = W(A_{ba})$\n",
    "- Is a direct result of there being invariance under unitary similarity\n",
    "    \n",
    "Conjecture 2:\n",
    "- If the two eigenvalues share a real part, the resulting W1 is a horizontal line\n",
    "- If the two eigenvalues share an imaginary part, the resulting W1 is a vertical line\n",
    "\n",
    "Conjecture 3:\n",
    "- Suppose $A_{ab}$ and $A_{cd}$ share 2 norm-0 eigenvectors and suppose one of the following holds:\n",
    "    - $Re(a)=Re(b)=Re(c)=Re(d)$ and $Im(a)+Im(b)=Im(c)+Im(d)$ or\n",
    "    - $Im(a)=Im(b)=Im(c)=Im(d)$ and $Re(a)+Re(b)=Re(c)+Re(d)$\n",
    "- Then $W(A_{ab}) = W(A_{cd})$"
   ]
  },
  {
   "cell_type": "code",
   "execution_count": 7,
   "metadata": {},
   "outputs": [],
   "source": [
    "np.random.seed(seed=2)"
   ]
  },
  {
   "cell_type": "code",
   "execution_count": 8,
   "metadata": {},
   "outputs": [
    {
     "name": "stdout",
     "output_type": "stream",
     "text": [
      "[[6.+5.j 6.+0.j]\n",
      " [1.+0.j 6.+2.j]]\n"
     ]
    }
   ],
   "source": [
    "A_3_2 = linalg.from_eigen(vals=(3,2), vecs=vecs)\n",
    "print(A_3_2)"
   ]
  },
  {
   "cell_type": "code",
   "execution_count": 9,
   "metadata": {},
   "outputs": [
    {
     "name": "stdout",
     "output_type": "stream",
     "text": [
      "[6.+0.j 6.+1.j 6.+2.j 6.+3.j 6.+4.j 6.+5.j 6.+6.j]\n"
     ]
    },
    {
     "data": {
      "image/png": "[encoded data removed]",
      "text/plain": [
       "<Figure size 432x288 with 1 Axes>"
      ]
     },
     "metadata": {
      "needs_background": "light"
     },
     "output_type": "display_data"
    }
   ],
   "source": [
    "W_A_3_2 = numrange_Zpi(n=2, p=7, M=A_3_2)\n",
    "print(W_A_3_2.W1())"
   ]
  },
  {
   "cell_type": "code",
   "execution_count": 10,
   "metadata": {},
   "outputs": [
    {
     "name": "stdout",
     "output_type": "stream",
     "text": [
      "[[0.+0.j 0.+0.j]\n",
      " [0.+0.j 0.+0.j]]\n",
      "[[0.+0.j 0.+0.j]\n",
      " [0.+0.j 0.+0.j]]\n",
      "----------\n",
      "[[0.+1.j 4.+0.j]\n",
      " [3.+0.j 0.+6.j]]\n",
      "[[0.+6.j 3.+0.j]\n",
      " [4.+0.j 0.+1.j]]\n",
      "----------\n",
      "[[4.+2.j 1.+0.j]\n",
      " [6.+0.j 4.+5.j]]\n",
      "[[4.+5.j 6.+0.j]\n",
      " [1.+0.j 4.+2.j]]\n",
      "----------\n",
      "[[1.+1.j 4.+0.j]\n",
      " [3.+0.j 1.+6.j]]\n",
      "[[1.+6.j 3.+0.j]\n",
      " [4.+0.j 1.+1.j]]\n",
      "----------\n",
      "[[4.+4.j 2.+0.j]\n",
      " [5.+0.j 4.+3.j]]\n",
      "[[4.+3.j 5.+0.j]\n",
      " [2.+0.j 4.+4.j]]\n",
      "----------\n",
      "[[2.+0.j 0.+0.j]\n",
      " [0.+0.j 2.+0.j]]\n",
      "[[2.+0.j 0.+0.j]\n",
      " [0.+0.j 2.+0.j]]\n",
      "----------\n",
      "[[0.+2.j 1.+0.j]\n",
      " [6.+0.j 0.+5.j]]\n",
      "[[0.+5.j 6.+0.j]\n",
      " [1.+0.j 0.+2.j]]\n",
      "----------\n"
     ]
    }
   ],
   "source": [
    "rand = np.random.randint(0,7,(2,7))\n",
    "\n",
    "for i in range(rand.shape[1]):\n",
    "    print(linalg.from_eigen(vals=(rand[0,i], rand[1,i]), vecs=vecs))\n",
    "    print(linalg.from_eigen(vals=(rand[1,i], rand[0,i]), vecs=vecs))\n",
    "    print(\"----------\")"
   ]
  },
  {
   "cell_type": "markdown",
   "metadata": {},
   "source": [
    "# Testing conjecture 2"
   ]
  },
  {
   "cell_type": "code",
   "execution_count": 11,
   "metadata": {},
   "outputs": [],
   "source": [
    "# Stick with same eigenvectors\n",
    "vals6 = (complex(6,5), complex(5,5))\n",
    "vals5 = (complex(5,5), complex(4,5))\n",
    "vals4 = (complex(4,5), complex(3,5))\n",
    "vals3 = (complex(3,5), complex(2,5))\n",
    "vals2 = (complex(2,5), complex(1,5))\n",
    "vals1 = (complex(1,5), complex(0,5))\n",
    "vals0 = (complex(0,5), complex(6,5))"
   ]
  },
  {
   "cell_type": "code",
   "execution_count": 12,
   "metadata": {},
   "outputs": [
    {
     "data": {
      "text/plain": [
       "array([0.+4.j, 1.+1.j, 2.+5.j, 3.+2.j, 4.+6.j, 5.+3.j, 6.+0.j],\n",
       "      dtype=complex64)"
      ]
     },
     "execution_count": 12,
     "metadata": {},
     "output_type": "execute_result"
    },
    {
     "data": {
      "image/png": "[encoded data removed]",
      "text/plain": [
       "<Figure size 432x288 with 1 Axes>"
      ]
     },
     "metadata": {
      "needs_background": "light"
     },
     "output_type": "display_data"
    }
   ],
   "source": [
    "numrange_Zpi(n=2, p=7, M=linalg.from_eigen(vals=(complex(6,4),complex(5,6)), vecs=vecs)).W1()"
   ]
  },
  {
   "cell_type": "code",
   "execution_count": null,
   "metadata": {},
   "outputs": [],
   "source": []
  }
 ],
 "metadata": {
  "kernelspec": {
   "display_name": "Python 3",
   "language": "python",
   "name": "python3"
  },
  "language_info": {
   "codemirror_mode": {
    "name": "ipython",
    "version": 3
   },
   "file_extension": ".py",
   "mimetype": "text/x-python",
   "name": "python",
   "nbconvert_exporter": "python",
   "pygments_lexer": "ipython3",
   "version": "3.7.6"
  }
 },
 "nbformat": 4,
 "nbformat_minor": 4
}
