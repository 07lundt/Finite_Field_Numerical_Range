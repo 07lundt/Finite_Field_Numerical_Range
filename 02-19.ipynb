{
 "cells": [
  {
   "cell_type": "code",
   "execution_count": 1,
   "metadata": {},
   "outputs": [],
   "source": [
    "# Create code to generate 2x2 unitary matrices in Z7[i] from unit vectors\n",
    "\n",
    "import numpy as np\n",
    "from Imports.linalg_Zpi import linalg_Zpi\n",
    "from Imports.numrange_Zpi import numrange_Zpi\n",
    "from itertools import permutations\n",
    "\n",
    "norm1 = np.load(\"Imports/norm1/p=7_n=2.npz\")[\"norm1\"]"
   ]
  },
  {
   "cell_type": "code",
   "execution_count": 2,
   "metadata": {},
   "outputs": [],
   "source": [
    "linalg = linalg_Zpi(n=2, p=7)\n",
    "indices = np.arange(len(norm1))"
   ]
  },
  {
   "cell_type": "code",
   "execution_count": 3,
   "metadata": {},
   "outputs": [],
   "source": [
    "I = np.array([[complex(1,0), complex(0,0)],\n",
    "              [complex(0,0), complex(1,0)]\n",
    "             ])"
   ]
  },
  {
   "cell_type": "code",
   "execution_count": 20,
   "metadata": {},
   "outputs": [],
   "source": [
    "mod = 7\n",
    "size=2\n",
    "\n",
    "p = list(permutations(indices, size))"
   ]
  },
  {
   "cell_type": "code",
   "execution_count": 21,
   "metadata": {},
   "outputs": [],
   "source": [
    "for i in range(len(p)):\n",
    "    tup = (norm1[p[i][0]], norm1[p[i][1]])\n",
    "    u = np.hstack(tup)\n",
    "    u_star = linalg.sim_a(np.conj(np.transpose(u)))\n",
    "    \n",
    "    if np.any(linalg.prod((u, u_star)) != I):\n",
    "        p[i] = -1"
   ]
  },
  {
   "cell_type": "code",
   "execution_count": 22,
   "metadata": {},
   "outputs": [],
   "source": [
    "p = [*set(p)]"
   ]
  },
  {
   "cell_type": "code",
   "execution_count": 24,
   "metadata": {},
   "outputs": [],
   "source": [
    "p.remove(-1)"
   ]
  },
  {
   "cell_type": "code",
   "execution_count": 25,
   "metadata": {},
   "outputs": [
    {
     "data": {
      "text/plain": [
       "[(16, 35),\n",
       " (32, 19),\n",
       " (34, 11),\n",
       " (13, 37),\n",
       " (18, 26),\n",
       " (30, 22),\n",
       " (9, 4),\n",
       " (8, 5),\n",
       " (5, 8),\n",
       " (4, 9),\n",
       " (6, 7),\n",
       " (39, 12),\n",
       " (7, 6),\n",
       " (11, 34),\n",
       " (24, 27),\n",
       " (28, 23),\n",
       " (37, 13),\n",
       " (19, 32),\n",
       " (40, 14),\n",
       " (3, 2),\n",
       " (17, 41),\n",
       " (33, 25),\n",
       " (27, 24),\n",
       " (20, 31),\n",
       " (29, 21),\n",
       " (15, 38),\n",
       " (2, 3),\n",
       " (41, 17),\n",
       " (35, 16),\n",
       " (1, 0),\n",
       " (38, 15),\n",
       " (14, 40),\n",
       " (26, 18),\n",
       " (0, 1),\n",
       " (36, 10),\n",
       " (10, 36),\n",
       " (23, 28),\n",
       " (12, 39),\n",
       " (21, 29),\n",
       " (25, 33),\n",
       " (31, 20),\n",
       " (22, 30)]"
      ]
     },
     "execution_count": 25,
     "metadata": {},
     "output_type": "execute_result"
    }
   ],
   "source": [
    "p"
   ]
  },
  {
   "cell_type": "code",
   "execution_count": 27,
   "metadata": {},
   "outputs": [
    {
     "name": "stdout",
     "output_type": "stream",
     "text": [
      "[[0.+3.j 2.+3.j]\n",
      " [5.+3.j 0.+4.j]]\n",
      "----------\n",
      "[[1.+3.j 1.+2.j]\n",
      " [6.+2.j 1.+4.j]]\n",
      "----------\n",
      "[[2.+3.j 0.+3.j]\n",
      " [0.+3.j 2.+4.j]]\n",
      "----------\n",
      "[[0.+3.j 2.+3.j]\n",
      " [3.+5.j 1.+6.j]]\n",
      "----------\n",
      "[[1.+2.j 1.+3.j]\n",
      " [1.+3.j 1.+2.j]]\n",
      "----------\n",
      "[[1.+3.j 1.+2.j]\n",
      " [5.+1.j 4.+1.j]]\n",
      "----------\n",
      "[[0.+2.j 0.+2.j]\n",
      " [5.+0.j 2.+0.j]]\n",
      "----------\n",
      "[[0.+2.j 0.+2.j]\n",
      " [4.+4.j 3.+3.j]]\n",
      "----------\n",
      "[[0.+2.j 0.+2.j]\n",
      " [3.+3.j 4.+4.j]]\n",
      "----------\n",
      "[[0.+2.j 0.+2.j]\n",
      " [2.+0.j 5.+0.j]]\n",
      "----------\n",
      "[[0.+2.j 0.+2.j]\n",
      " [3.+4.j 4.+3.j]]\n",
      "----------\n",
      "[[2.+3.j 0.+3.j]\n",
      " [4.+0.j 3.+2.j]]\n",
      "----------\n",
      "[[0.+2.j 0.+2.j]\n",
      " [4.+3.j 3.+4.j]]\n",
      "----------\n",
      "[[0.+3.j 2.+3.j]\n",
      " [2.+4.j 0.+3.j]]\n",
      "----------\n",
      "[[1.+2.j 1.+3.j]\n",
      " [6.+3.j 1.+5.j]]\n",
      "----------\n",
      "[[1.+3.j 1.+2.j]\n",
      " [2.+1.j 4.+6.j]]\n",
      "----------\n",
      "[[2.+3.j 0.+3.j]\n",
      " [1.+6.j 3.+5.j]]\n",
      "----------\n",
      "[[1.+2.j 1.+3.j]\n",
      " [1.+4.j 6.+2.j]]\n",
      "----------\n",
      "[[2.+3.j 0.+3.j]\n",
      " [6.+1.j 4.+2.j]]\n",
      "----------\n",
      "[[0.+2.j 0.+2.j]\n",
      " [0.+5.j 0.+2.j]]\n",
      "----------\n",
      "[[0.+3.j 2.+3.j]\n",
      " [5.+4.j 6.+6.j]]\n",
      "----------\n",
      "[[1.+3.j 1.+2.j]\n",
      " [6.+5.j 6.+4.j]]\n",
      "----------\n",
      "[[1.+3.j 1.+2.j]\n",
      " [1.+5.j 6.+3.j]]\n",
      "----------\n",
      "[[1.+2.j 1.+3.j]\n",
      " [3.+1.j 5.+6.j]]\n",
      "----------\n",
      "[[1.+3.j 1.+2.j]\n",
      " [2.+6.j 3.+6.j]]\n",
      "----------\n",
      "[[0.+3.j 2.+3.j]\n",
      " [4.+5.j 3.+0.j]]\n",
      "----------\n",
      "[[0.+2.j 0.+2.j]\n",
      " [0.+2.j 0.+5.j]]\n",
      "----------\n",
      "[[2.+3.j 0.+3.j]\n",
      " [6.+6.j 5.+4.j]]\n",
      "----------\n",
      "[[2.+3.j 0.+3.j]\n",
      " [0.+4.j 5.+3.j]]\n",
      "----------\n",
      "[[0.+1.j 0.+0.j]\n",
      " [0.+0.j 0.+1.j]]\n",
      "----------\n",
      "[[2.+3.j 0.+3.j]\n",
      " [3.+0.j 4.+5.j]]\n",
      "----------\n",
      "[[0.+3.j 2.+3.j]\n",
      " [4.+2.j 6.+1.j]]\n",
      "----------\n",
      "[[1.+3.j 1.+2.j]\n",
      " [1.+2.j 1.+3.j]]\n",
      "----------\n",
      "[[0.+0.j 0.+1.j]\n",
      " [0.+1.j 0.+0.j]]\n",
      "----------\n",
      "[[2.+3.j 0.+3.j]\n",
      " [1.+1.j 2.+3.j]]\n",
      "----------\n",
      "[[0.+3.j 2.+3.j]\n",
      " [2.+3.j 1.+1.j]]\n",
      "----------\n",
      "[[1.+2.j 1.+3.j]\n",
      " [4.+6.j 2.+1.j]]\n",
      "----------\n",
      "[[0.+3.j 2.+3.j]\n",
      " [3.+2.j 4.+0.j]]\n",
      "----------\n",
      "[[1.+2.j 1.+3.j]\n",
      " [3.+6.j 2.+6.j]]\n",
      "----------\n",
      "[[1.+2.j 1.+3.j]\n",
      " [6.+4.j 6.+5.j]]\n",
      "----------\n",
      "[[1.+3.j 1.+2.j]\n",
      " [5.+6.j 3.+1.j]]\n",
      "----------\n",
      "[[1.+2.j 1.+3.j]\n",
      " [4.+1.j 5.+1.j]]\n",
      "----------\n"
     ]
    }
   ],
   "source": [
    "for i in range(len(p)):\n",
    "    tup = (norm1[p[i][0]], norm1[p[i][1]])\n",
    "    u = np.hstack(tup)\n",
    "    print(u)\n",
    "    print(\"----------\")"
   ]
  },
  {
   "cell_type": "code",
   "execution_count": null,
   "metadata": {},
   "outputs": [],
   "source": []
  }
 ],
 "metadata": {
  "kernelspec": {
   "display_name": "Python 3",
   "language": "python",
   "name": "python3"
  },
  "language_info": {
   "codemirror_mode": {
    "name": "ipython",
    "version": 3
   },
   "file_extension": ".py",
   "mimetype": "text/x-python",
   "name": "python",
   "nbconvert_exporter": "python",
   "pygments_lexer": "ipython3",
   "version": "3.7.6"
  }
 },
 "nbformat": 4,
 "nbformat_minor": 4
}
