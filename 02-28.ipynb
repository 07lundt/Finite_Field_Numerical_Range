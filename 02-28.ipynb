{
 "cells": [
  {
   "cell_type": "markdown",
   "metadata": {},
   "source": [
    "# Goal: Same Eigenvalues, Different Norm-0 Eigenvectors"
   ]
  },
  {
   "cell_type": "code",
   "execution_count": 1,
   "metadata": {},
   "outputs": [],
   "source": [
    "import numpy as np\n",
    "from Imports.linalg_Zpi import linalg_Zpi\n",
    "from Imports.numrange_Zpi import numrange_Zpi\n",
    "from itertools import permutations\n",
    "\n",
    "norm1 = np.load(\"Imports/norm1/p=7_n=2.npz\")[\"norm1\"]\n",
    "norm0 = np.load(\"Imports/norm0/p=7_n=2.npz\")[\"norm0\"]"
   ]
  },
  {
   "cell_type": "code",
   "execution_count": 2,
   "metadata": {},
   "outputs": [],
   "source": [
    "linalg = linalg_Zpi(n=2, p=7)"
   ]
  },
  {
   "cell_type": "code",
   "execution_count": 3,
   "metadata": {},
   "outputs": [],
   "source": [
    "eigvals = (complex(6,1), complex(3,2))"
   ]
  },
  {
   "cell_type": "code",
   "execution_count": 4,
   "metadata": {},
   "outputs": [
    {
     "data": {
      "text/plain": [
       "50"
      ]
     },
     "execution_count": 4,
     "metadata": {},
     "output_type": "execute_result"
    }
   ],
   "source": [
    "len(norm0)"
   ]
  },
  {
   "cell_type": "code",
   "execution_count": 5,
   "metadata": {},
   "outputs": [
    {
     "name": "stdout",
     "output_type": "stream",
     "text": [
      "[[1.+2.j]\n",
      " [6.+1.j]]\n",
      "[[0.+3.j]\n",
      " [5.+6.j]]\n"
     ]
    },
    {
     "data": {
      "text/plain": [
       "array([0.+2.j, 1.+5.j, 2.+1.j, 3.+4.j, 4.+0.j, 5.+3.j, 6.+6.j],\n",
       "      dtype=complex64)"
      ]
     },
     "execution_count": 5,
     "metadata": {},
     "output_type": "execute_result"
    },
    {
     "data": {
      "image/png": "[encoded data removed]",
      "text/plain": [
       "<Figure size 432x288 with 1 Axes>"
      ]
     },
     "metadata": {
      "needs_background": "light"
     },
     "output_type": "display_data"
    }
   ],
   "source": [
    "indices = np.random.randint(1, len(norm0), size=2)\n",
    "eigvecs = (norm0[indices[0]], norm0[indices[1]])\n",
    "\n",
    "if linalg.mult(eigvecs[0], eigvecs[1]) != None:\n",
    "    print(\"AAAAA\")\n",
    "\n",
    "print(eigvecs[0])\n",
    "print(eigvecs[1])\n",
    "\n",
    "M = linalg.from_eigen(vecs = eigvecs, vals = eigvals)\n",
    "\n",
    "numrange_Zpi(n=2, p=7, M=M).W1()"
   ]
  },
  {
   "cell_type": "code",
   "execution_count": 6,
   "metadata": {},
   "outputs": [
    {
     "name": "stdout",
     "output_type": "stream",
     "text": [
      "[[0.+2.j]\n",
      " [1.+4.j]]\n",
      "[[2.+3.j]\n",
      " [1.+6.j]]\n"
     ]
    },
    {
     "data": {
      "text/plain": [
       "array([0.+3.j, 1.+5.j, 2.+0.j, 3.+2.j, 4.+4.j, 5.+6.j, 6.+1.j],\n",
       "      dtype=complex64)"
      ]
     },
     "execution_count": 6,
     "metadata": {},
     "output_type": "execute_result"
    },
    {
     "data": {
      "image/png": "[encoded data removed]",
      "text/plain": [
       "<Figure size 432x288 with 1 Axes>"
      ]
     },
     "metadata": {
      "needs_background": "light"
     },
     "output_type": "display_data"
    }
   ],
   "source": [
    "indices = np.random.randint(1, len(norm0), size=2)\n",
    "eigvecs = (norm0[indices[0]], norm1[37])\n",
    "\n",
    "print(eigvecs[0])\n",
    "print(eigvecs[1])\n",
    "\n",
    "M = linalg.from_eigen(vecs = eigvecs, vals = eigvals)\n",
    "\n",
    "numrange_Zpi(n=2, p=7, M=M).W1()"
   ]
  },
  {
   "cell_type": "markdown",
   "metadata": {},
   "source": [
    "Add in a norm-1 eigenvector and it still stays the same except just it's the inverse??????"
   ]
  },
  {
   "cell_type": "code",
   "execution_count": 7,
   "metadata": {},
   "outputs": [
    {
     "name": "stdout",
     "output_type": "stream",
     "text": [
      "[[0.+2.j]\n",
      " [5.+0.j]]\n",
      "[[0.+3.j]\n",
      " [2.+1.j]]\n"
     ]
    },
    {
     "data": {
      "text/plain": [
       "array([0.+2.j, 0.+3.j, 0.+4.j, 0.+5.j, 1.+0.j, 1.+3.j, 1.+5.j, 2.+0.j,\n",
       "       2.+1.j, 2.+5.j, 2.+6.j, 3.+0.j, 3.+1.j, 3.+2.j, 4.+0.j, 4.+2.j,\n",
       "       4.+3.j, 4.+5.j, 5.+0.j, 5.+1.j, 5.+3.j, 5.+5.j, 6.+1.j, 6.+2.j,\n",
       "       6.+3.j], dtype=complex64)"
      ]
     },
     "execution_count": 7,
     "metadata": {},
     "output_type": "execute_result"
    },
    {
     "data": {
      "image/png": "[encoded data removed]",
      "text/plain": [
       "<Figure size 432x288 with 1 Axes>"
      ]
     },
     "metadata": {
      "needs_background": "light"
     },
     "output_type": "display_data"
    }
   ],
   "source": [
    "indices = np.random.randint(1, len(norm0), size=2)\n",
    "eigvecs = (norm1[9], norm0[indices[1]])\n",
    "\n",
    "print(eigvecs[0])\n",
    "print(eigvecs[1])\n",
    "\n",
    "M = linalg.from_eigen(vecs = eigvecs, vals = eigvals)\n",
    "\n",
    "numrange_Zpi(n=2, p=7, M=M).W1()"
   ]
  },
  {
   "cell_type": "markdown",
   "metadata": {},
   "source": [
    "Conjecture: When you have at least one norm-0 eigeivector, the choice of eigenvectors has NO impact on the numerical range"
   ]
  },
  {
   "cell_type": "markdown",
   "metadata": {},
   "source": [
    "Conjecture: Let there be two matrices A and B such that they have the same eigenvalues BUT A has two norm0 eigeivectors and B has one norm0 and one eigenvector that is not norm0 (could be norm1, norm2, whatever). Then their numerical ranges are the inverses(?) of each other"
   ]
  },
  {
   "cell_type": "code",
   "execution_count": 28,
   "metadata": {},
   "outputs": [
    {
     "name": "stdout",
     "output_type": "stream",
     "text": [
      "[[0.+2.j]\n",
      " [4.+6.j]]\n",
      "[[0.+2.j]\n",
      " [1.+4.j]]\n"
     ]
    },
    {
     "data": {
      "text/plain": [
       "array([0.+2.j, 0.+3.j, 0.+4.j, 0.+5.j, 1.+0.j, 1.+3.j, 1.+5.j, 2.+0.j,\n",
       "       2.+1.j, 2.+5.j, 2.+6.j, 3.+0.j, 3.+1.j, 3.+2.j, 4.+0.j, 4.+2.j,\n",
       "       4.+3.j, 4.+5.j, 5.+0.j, 5.+1.j, 5.+3.j, 5.+5.j, 6.+1.j, 6.+2.j,\n",
       "       6.+3.j], dtype=complex64)"
      ]
     },
     "execution_count": 28,
     "metadata": {},
     "output_type": "execute_result"
    },
    {
     "data": {
      "image/png": "[encoded data removed]",
      "text/plain": [
       "<Figure size 432x288 with 1 Axes>"
      ]
     },
     "metadata": {
      "needs_background": "light"
     },
     "output_type": "display_data"
    }
   ],
   "source": [
    "indices = np.random.randint(1, len(norm0), size=2)\n",
    "eigvecs = (norm0[indices[0]], norm0[indices[1]])\n",
    "\n",
    "print(eigvecs[0])\n",
    "print(eigvecs[1])\n",
    "\n",
    "M = linalg.from_eigen(vecs = eigvecs, vals = eigvals)\n",
    "\n",
    "numrange_Zpi(n=2, p=7, M=M).W1()"
   ]
  },
  {
   "cell_type": "code",
   "execution_count": 9,
   "metadata": {},
   "outputs": [
    {
     "ename": "TypeError",
     "evalue": "list indices must be integers or slices, not complex",
     "output_type": "error",
     "traceback": [
      "\u001b[0;31m---------------------------------------------------------------------------\u001b[0m",
      "\u001b[0;31mTypeError\u001b[0m                                 Traceback (most recent call last)",
      "\u001b[0;32m<ipython-input-9-21c05b20f417>\u001b[0m in \u001b[0;36m<module>\u001b[0;34m\u001b[0m\n\u001b[1;32m      1\u001b[0m [[0.+3.j]\n\u001b[0;32m----> 2\u001b[0;31m  [5.+3.j]]\n\u001b[0m\u001b[1;32m      3\u001b[0m [[0.+3.j]\n\u001b[1;32m      4\u001b[0m  [3.+2.j]]\n\u001b[1;32m      5\u001b[0m \u001b[0;34m\u001b[0m\u001b[0m\n",
      "\u001b[0;31mTypeError\u001b[0m: list indices must be integers or slices, not complex"
     ]
    }
   ],
   "source": [
    "[[0.+3.j]\n",
    " [5.+3.j]]\n",
    "[[0.+3.j]\n",
    " [3.+2.j]]\n",
    "\n",
    "[[0.+2.j]\n",
    " [4.+3.j]]\n",
    "[[0.+2.j]\n",
    " [2.+0.j]]\n",
    "\n",
    "[[2.+3.j]\n",
    " [1.+1.j]]\n",
    "[[1.+2.j]\n",
    " [4.+1.j]]\n",
    "\n",
    "# SAME???"
   ]
  },
  {
   "cell_type": "code",
   "execution_count": null,
   "metadata": {},
   "outputs": [],
   "source": []
  }
 ],
 "metadata": {
  "kernelspec": {
   "display_name": "Python 3",
   "language": "python",
   "name": "python3"
  },
  "language_info": {
   "codemirror_mode": {
    "name": "ipython",
    "version": 3
   },
   "file_extension": ".py",
   "mimetype": "text/x-python",
   "name": "python",
   "nbconvert_exporter": "python",
   "pygments_lexer": "ipython3",
   "version": "3.7.6"
  }
 },
 "nbformat": 4,
 "nbformat_minor": 4
}
